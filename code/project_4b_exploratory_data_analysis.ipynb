{
 "cells": [
  {
   "cell_type": "markdown",
   "metadata": {},
   "source": [
    "# Capstone Project: Criminal Case Database"
   ]
  },
  {
   "cell_type": "markdown",
   "metadata": {},
   "source": [
    "### Overall Contents:\n",
    "- Background\n",
    "- Data Cleaning\n",
    "- [Exploratory Data Analysis](#3.-Exploratory-Data-Analysis) **(In this notebook)**\n",
    "- Modeling 1 Logistic Regression\n",
    "- Modeling 2 k-Nearest Neighbours\n",
    "- Modeling 3 Random Forest\n",
    "- Evaluation\n",
    "- Conclusion and Recommendation"
   ]
  },
  {
   "cell_type": "markdown",
   "metadata": {},
   "source": [
    "### Data Dictionary\n",
    "\n",
    "The dataset contains the weather, location, testing and spraying in the City of Chicago.The data source below are obtained from [kaggle](https://www.kaggle.com/c/predict-west-nile-virus/data).\n",
    "\n",
    "The dataset used for this analysis are as followed:--\n",
    "\n",
    "* train_df (2007, 2009, 2011, 2013)\n",
    "* spray_df (2011 to 2013)\n",
    "* weather_df (2007 to 2014)\n",
    "* test_df (2008, 2010, 2012, 2014)\n",
    "\n",
    "|Feature|Type|Dataset|Description|\n",
    "|:---|:---|:---|:---|\n",
    "|**date**|*object*|train_df<br>test_df|The date that the West Nile Virus test is performed|\n",
    "|**species**|*object*|train_df<br>test_df|The species of mosquitos|\n",
    "|**trap**|*object*|train_df<br>test_df|Id of the trap|\n",
    "|**addressnumberandstreet**|*object*|train_df<br>test_df|Approximate address returned from GeoCoder|\n",
    "|**latitude**|*float64*|train_df<br>test_df|Latitude returned from GeoCoder|\n",
    "|**longitude**|*float64*|train_df<br>test_df|Longitude returned from GeoCoder|\n",
    "|**nummosquitos**|*int64*|train_df|Number of mosquitoes caught in this trap|\n",
    "|**wnvpresent**|*int64*|train_df|Whether West Nile Virus was present in these mosquitos.<br>1 means West Nile Virus is present, and 0 means not present|\n",
    "|**station**|*int64*|weather_df|Weather stations<br>Station 1 is located at Chicago O'Hare International Airport<br>Station 2 is located at Chicago Midway Intl Arpt|\n",
    "|**date**|*object*|weather_df|The date of the weather information is collected|\n",
    "|**tmax**|*int64*|weather_df|Maximum temperature (&deg;F)|\n",
    "|**tmin**|*int64*|weather_df|Minimum temperature (&deg;F)|\n",
    "|**tavg**|*int32*|weather_df|Average temperature (&deg;F)|\n",
    "|**dewpoint**|*int64*|weather_df|Average dew point (&deg;F)|\n",
    "|**wetbulb**|*int32*|weather_df|Average wet bulb (&deg;F)|\n",
    "|**heat**|*int32*|weather_df|Heating degree days (Base 65&deg;F)|\n",
    "|**cool**|*int32*|weather_df|Cooling degree days (Base 65&deg;F)|\n",
    "|**codesum**|*object*|weather_df|Weather phenomena for significant weather types|\n",
    "|**preciptotal**|*float64*|weather_df|Total precipitation (Inches and Hundredths)|\n",
    "|**stnpressure**|*float64*|weather_df|Average station pressure (Inches of Hg)|\n",
    "|**sealevel**|*float64*|weather_df|Average sea level pressure (Inches of Hg)|\n",
    "|**resultspeed**|*float64*|weather_df|Resultant wind speed (miles per hour)|\n",
    "|**resultdir**|*int64*|weather_df|Resultant wind direction (tens of whole degrees)|\n",
    "|**avgspeed**|*float64*|weather_df|Average wind speed|\n",
    "|**date**|*object*|spray_df|The date of the spray|\n",
    "|**latitude**|*float64*|spray_df|Latitude of the spray|\n",
    "|**longitude**|*float64*|spray_df|Longitude of the spray|"
   ]
  },
  {
   "cell_type": "markdown",
   "metadata": {},
   "source": [
    "## 3. Exploratory Data Analysis"
   ]
  },
  {
   "cell_type": "markdown",
   "metadata": {},
   "source": [
    "### 3.1 Libraries Import"
   ]
  },
  {
   "cell_type": "code",
   "execution_count": 1,
   "metadata": {},
   "outputs": [],
   "source": [
    "# Imports:\n",
    "import pandas as pd\n",
    "import numpy as np\n",
    "import matplotlib.pyplot as plt\n",
    "import seaborn as sns\n",
    "import re\n",
    "\n",
    "from sklearn.feature_extraction.text import CountVectorizer\n",
    "from IPython.display import clear_output\n",
    "\n",
    "%config InlineBackend.figure_format = 'retina'\n",
    "%matplotlib inline \n",
    "# Maximum display of columns\n",
    "pd.options.display.max_colwidth = 400\n",
    "pd.options.display.max_rows = 400\n",
    "\n",
    "mapdata = np.loadtxt(\"../assets/mapdata_copyright_openstreetmap_contributors.txt\")\n",
    "aspect = mapdata.shape[0] * 1.0 / mapdata.shape[1]\n",
    "lon_lat_box = (-88, -87.5, 41.6, 42.1)"
   ]
  },
  {
   "cell_type": "markdown",
   "metadata": {},
   "source": [
    "### 3.2 Data Import"
   ]
  },
  {
   "cell_type": "code",
   "execution_count": 2,
   "metadata": {},
   "outputs": [],
   "source": [
    "# Import data of train, weather, spray and test from csv\n",
    "train_df = pd.read_csv('../data/train_df_clean.csv')\n",
    "test_df = pd.read_csv(\"../data/test_df_clean.csv\")\n",
    "weather_df = pd.read_csv('../data/weather_df_clean.csv')\n",
    "spray_df = pd.read_csv('../data/spray_df_clean.csv')"
   ]
  },
  {
   "cell_type": "markdown",
   "metadata": {},
   "source": [
    "### 3.3 Feature Engineering"
   ]
  },
  {
   "cell_type": "markdown",
   "metadata": {},
   "source": [
    "### 3.3.1 Change to datetime"
   ]
  },
  {
   "cell_type": "code",
   "execution_count": 3,
   "metadata": {},
   "outputs": [
    {
     "name": "stdout",
     "output_type": "stream",
     "text": [
      "train_df dtype is datetime64[ns]\n",
      "test_df dtype is datetime64[ns]\n",
      "spray_df dtype is datetime64[ns]\n",
      "weather_df dtype is datetime64[ns]\n"
     ]
    }
   ],
   "source": [
    "train_df.date = pd.to_datetime(train_df.date)\n",
    "test_df.date = pd.to_datetime(test_df.date)\n",
    "spray_df.date = pd.to_datetime(spray_df.date)\n",
    "weather_df.date = pd.to_datetime(weather_df.date)\n",
    "print(f\"train_df dtype is {train_df.dtypes.date}\")\n",
    "print(f\"test_df dtype is {test_df.dtypes.date}\")\n",
    "print(f\"spray_df dtype is {spray_df.dtypes.date}\")\n",
    "print(f\"weather_df dtype is {weather_df.dtypes.date}\")"
   ]
  },
  {
   "cell_type": "markdown",
   "metadata": {},
   "source": [
    "### 3.4 Analysis - Weather with number of mosquitos"
   ]
  },
  {
   "cell_type": "markdown",
   "metadata": {},
   "source": [
    "#### 3.4.1 Correlations of weather with number of mosquitos"
   ]
  },
  {
   "cell_type": "markdown",
   "metadata": {},
   "source": [
    "**Analysis: There does not appear to be much correlation between the features and number of mosquitos based on the heatmap, however, we know this to be untrue based on scientific research.**"
   ]
  },
  {
   "cell_type": "markdown",
   "metadata": {},
   "source": [
    "#### 3.4.2 Relationships of weather features with number of mosquitos"
   ]
  },
  {
   "cell_type": "markdown",
   "metadata": {},
   "source": [
    "#### 3.4.2.1  Define functions"
   ]
  },
  {
   "cell_type": "markdown",
   "metadata": {},
   "source": [
    "#### 3.4.2.2  Weather features and the number of mosquitos in 2007"
   ]
  },
  {
   "cell_type": "markdown",
   "metadata": {},
   "source": [
    "### 3.5 Analysis - Mosquitos and trap locations in Chicago"
   ]
  },
  {
   "cell_type": "markdown",
   "metadata": {},
   "source": [
    "#### 3.5.1 Define functions"
   ]
  },
  {
   "cell_type": "code",
   "execution_count": 26,
   "metadata": {},
   "outputs": [],
   "source": [
    "def plot_barplot(dataframe, x_data, y_data, hue_data, title, x_label, y_label,legend_label, orient, legend_location):\n",
    "    \"\"\"To plot a barplot with input of details.\n",
    "    Orient can take a form of 'h' or 'v'. legend_location is a range of 0-10.\n",
    "    hue_data can take a form of None. The output is a barplot\"\"\"\n",
    "    plt.figure(figsize = (10,7))\n",
    "    sns.barplot(x = x_data, y = y_data, hue = hue_data, data = dataframe, orient = orient)\n",
    "    plt.xlabel(x_label, fontsize = 16)\n",
    "    plt.xticks(fontsize = 14)\n",
    "    plt.yticks(fontsize = 14)\n",
    "    plt.ylabel(y_label, fontsize = 16)\n",
    "    plt.legend(title = legend_label,prop = {'size' : 14}, title_fontsize = 14, loc = legend_location)\n",
    "    plt.title((title +\"\\n\"), weight = 'bold', fontsize = 20);\n",
    "    return plt.show()"
   ]
  },
  {
   "cell_type": "code",
   "execution_count": 27,
   "metadata": {},
   "outputs": [],
   "source": [
    "def wnv_normalizer(dataframe):\n",
    "    \"\"\"\n",
    "    Input: dataframe with `species`, `wnvpresent` and `nummosquitos`\n",
    "    Output: dataframe with `nummosquitos` normalized according to species\n",
    "    \"\"\"\n",
    "    new_dataframe = pd.DataFrame(columns = dataframe.columns)\n",
    "    for index, row in dataframe.iterrows():\n",
    "        species = row['species']\n",
    "        data = list(row)\n",
    "        data[2] = row.nummosquitos/dataframe[dataframe['species'] == species]['nummosquitos'].sum()\n",
    "        temp_dict = dict(zip(list(dataframe.columns), data))\n",
    "        new_dataframe = new_dataframe.append(temp_dict, ignore_index=True)\n",
    "    return new_dataframe"
   ]
  },
  {
   "cell_type": "markdown",
   "metadata": {},
   "source": [
    "#### 3.5.2 Mosquitos, its species and presence of west nile virus across 2007 to 2013"
   ]
  },
  {
   "cell_type": "markdown",
   "metadata": {},
   "source": [
    "**Summary**\n",
    "* Majority of the mosquito species for both with and without west nile virus caught in the trap belongs to *culex pipiens* or *culex restuans*.\n",
    "* There is a high proportion of number of mosquitos present in Chicago in 2007 could be due to the high number of trap locations in comparison with other years. The number of mosquitos with west nile virus are high in 2007 and 2013.**\n",
    "* The locations containing an exceptional high number of mosquitos are 1200 s doty avenue (2007), 1000 w ohare airport (2011 and 2013)."
   ]
  },
  {
   "cell_type": "markdown",
   "metadata": {},
   "source": [
    "### 3.6 Analysis - Mosquitos locations and the spray of mosquitos in Chicago"
   ]
  },
  {
   "cell_type": "markdown",
   "metadata": {},
   "source": [
    "#### 3.6.1 Locations of mosquitos with west nile virus in Chicago across 2007 to 2013"
   ]
  },
  {
   "cell_type": "markdown",
   "metadata": {},
   "source": [
    "### 3.8. Summary"
   ]
  },
  {
   "cell_type": "markdown",
   "metadata": {},
   "source": [
    "1. We found a high correlation between the number of mosquitos and weather features such as precipitation, Relative Humidity, temperature, \n",
    "as well as some weather phenomena - for example rain, drizzle, and thunderstorms\n",
    "2. The mosquito populations peaked between July and August each year. This coincided with the time of the year when it started\n",
    "to get warmer, and there was more rain and humidity\n",
    "3. Two species of mosquitos in particular had a much higher population than the others - Culex Pipiens and Culex Restuans.\n",
    "4. There was a higher mosquito population in certain locations, but these locations were not where spraying efforts were previously done.\n",
    "\n",
    "These will likely be the key features for our model in predicting the probability of WNV presence for given locations and time periods."
   ]
  },
  {
   "cell_type": "markdown",
   "metadata": {},
   "source": [
    "## Exporting Data"
   ]
  },
  {
   "cell_type": "code",
   "execution_count": 38,
   "metadata": {},
   "outputs": [],
   "source": [
    "# train_df.to_csv(\"../data/train_df_model.csv\", index = False)\n",
    "# test_df.to_csv(\"../data/test_df_model.csv\", index = False)"
   ]
  },
  {
   "cell_type": "markdown",
   "metadata": {},
   "source": [
    "## References"
   ]
  },
  {
   "cell_type": "markdown",
   "metadata": {},
   "source": [
    "[1] \"Atmospheric Pressure,\" *Britannica The Editors of Encyclopedia*, May 27, 2020. [Online]. Available: [https://www.britannica.com/science/atmospheric-pressure](https://www.britannica.com/science/atmospheric-pressure) [Accessed: May. 1, 2021].  \n",
    "\n",
    "[2] \"Humidity Formulas,\" *Go Grean*, 2014. [Online]. Available: [http://www.reahvac.com/tools/humidity-formulas/](http://www.reahvac.com/tools/humidity-formulas/) [Accessed: May. 1, 2021].\n",
    "\n",
    "[3] \"House Mosquitoes,\" *Biogents USA*. [Online]. Available: [https://us.biogents.com/house-mosquitoes/](https://us.biogents.com/house-mosquitoes/) [Accessed: May. 6, 2021].\n",
    " \n",
    "[4] \"Rising temperatures could shift US West Nile virus transmission,\" *ScienceDaily*, September 15, 2020. [Online]. Available: [https://www.sciencedaily.com/releases/2020/09/200915105932.htm#:~:text=West%20Nile%20virus%20spreads%20most,published%20today%20in%20eLife%20shows.](https://www.sciencedaily.com/releases/2020/09/200915105932.htm#:~:text=West%20Nile%20virus%20spreads%20most,published%20today%20in%20eLife%20shows.) [Accessed: May. 6, 2021]"
   ]
  }
 ],
 "metadata": {
  "kernelspec": {
   "display_name": "Python 3",
   "language": "python",
   "name": "python3"
  },
  "language_info": {
   "codemirror_mode": {
    "name": "ipython",
    "version": 3
   },
   "file_extension": ".py",
   "mimetype": "text/x-python",
   "name": "python",
   "nbconvert_exporter": "python",
   "pygments_lexer": "ipython3",
   "version": "3.8.5"
  }
 },
 "nbformat": 4,
 "nbformat_minor": 4
}
