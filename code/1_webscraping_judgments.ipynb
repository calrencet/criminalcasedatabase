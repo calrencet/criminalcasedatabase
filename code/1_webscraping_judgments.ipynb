{
 "cells": [
  {
   "cell_type": "code",
   "execution_count": 1,
   "metadata": {},
   "outputs": [],
   "source": [
    "# Import libaries\n",
    "import requests\n",
    "from bs4 import BeautifulSoup\n",
    "import pandas as pd\n",
    "from time import sleep\n",
    "from random import randint\n",
    "from datetime import datetime\n",
    "from court import Court"
   ]
  },
  {
   "cell_type": "code",
   "execution_count": 2,
   "metadata": {},
   "outputs": [],
   "source": [
    "supreme_court = Court('supreme')"
   ]
  },
  {
   "cell_type": "code",
   "execution_count": 3,
   "metadata": {},
   "outputs": [
    {
     "name": "stdout",
     "output_type": "stream",
     "text": [
      "Current progress: page 6/6.\n",
      "Current progress: DataFrame created.\n",
      "Current progress: Narrowed to only Criminal cases.\n",
      "Current progress: 0 New entries identified and saved.\n",
      "Current progress: Completed url pull and export.\n"
     ]
    }
   ],
   "source": [
    "supreme_court.pull_urls()"
   ]
  },
  {
   "cell_type": "code",
   "execution_count": 4,
   "metadata": {},
   "outputs": [
    {
     "name": "stdout",
     "output_type": "stream",
     "text": [
      "Current progress: 0 HTMLs archived.\n"
     ]
    }
   ],
   "source": [
    "supreme_court.archive()"
   ]
  },
  {
   "cell_type": "code",
   "execution_count": 5,
   "metadata": {},
   "outputs": [],
   "source": [
    "state_court = Court('subordinate')"
   ]
  },
  {
   "cell_type": "code",
   "execution_count": 6,
   "metadata": {},
   "outputs": [
    {
     "name": "stdout",
     "output_type": "stream",
     "text": [
      "Current progress: page 4/4.\n",
      "Current progress: DataFrame created.\n",
      "Current progress: Narrowed to only Criminal cases.\n",
      "Current progress: 1 New entries identified and saved.\n",
      "Current progress: Completed url pull and export.\n"
     ]
    }
   ],
   "source": [
    "state_court.pull_urls()"
   ]
  },
  {
   "cell_type": "code",
   "execution_count": 7,
   "metadata": {},
   "outputs": [
    {
     "name": "stdout",
     "output_type": "stream",
     "text": [
      "Current progress: 1/1.\n",
      "Current progress: 1 HTMLs archived.\n"
     ]
    }
   ],
   "source": [
    "state_court.archive()"
   ]
  }
 ],
 "metadata": {
  "kernelspec": {
   "display_name": "Python 3",
   "language": "python",
   "name": "python3"
  },
  "language_info": {
   "codemirror_mode": {
    "name": "ipython",
    "version": 3
   },
   "file_extension": ".py",
   "mimetype": "text/x-python",
   "name": "python",
   "nbconvert_exporter": "python",
   "pygments_lexer": "ipython3",
   "version": "3.8.5"
  }
 },
 "nbformat": 4,
 "nbformat_minor": 4
}
