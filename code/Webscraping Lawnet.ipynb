{
 "cells": [
  {
   "cell_type": "code",
   "execution_count": 1,
   "metadata": {},
   "outputs": [],
   "source": [
    "# Imports\n",
    "\n",
    "import pandas as pd\n",
    "import requests\n",
    "from bs4 import BeautifulSoup\n",
    "from datetime import datetime\n",
    "from court import Court"
   ]
  },
  {
   "cell_type": "markdown",
   "metadata": {},
   "source": [
    "### Let's scrape State Court data (past 3 months)!"
   ]
  },
  {
   "cell_type": "code",
   "execution_count": 7,
   "metadata": {},
   "outputs": [],
   "source": [
    "sub = pd.read_csv('../data/subordinatecourt.csv')"
   ]
  },
  {
   "cell_type": "code",
   "execution_count": 12,
   "metadata": {},
   "outputs": [],
   "source": [
    "sub.date = pd.to_datetime(sub.date)"
   ]
  },
  {
   "cell_type": "code",
   "execution_count": 15,
   "metadata": {},
   "outputs": [
    {
     "name": "stdout",
     "output_type": "stream",
     "text": [
      "<class 'pandas.core.frame.DataFrame'>\n",
      "RangeIndex: 5 entries, 0 to 4\n",
      "Data columns (total 3 columns):\n",
      " #   Column  Non-Null Count  Dtype         \n",
      "---  ------  --------------  -----         \n",
      " 0   date    5 non-null      datetime64[ns]\n",
      " 1   title   5 non-null      object        \n",
      " 2   link    5 non-null      object        \n",
      "dtypes: datetime64[ns](1), object(2)\n",
      "memory usage: 248.0+ bytes\n"
     ]
    }
   ],
   "source": [
    "sub.info()"
   ]
  },
  {
   "cell_type": "code",
   "execution_count": 2,
   "metadata": {},
   "outputs": [],
   "source": [
    "supreme_court = Court('supreme')"
   ]
  },
  {
   "cell_type": "code",
   "execution_count": 4,
   "metadata": {},
   "outputs": [],
   "source": [
    "supreme_court.pull_urls()"
   ]
  },
  {
   "cell_type": "markdown",
   "metadata": {},
   "source": [
    "<a id='step1'></a>\n",
    "### 1) Fetch the State Court content by URL.\n"
   ]
  },
  {
   "cell_type": "code",
   "execution_count": 3,
   "metadata": {},
   "outputs": [
    {
     "name": "stdout",
     "output_type": "stream",
     "text": [
      "200\n"
     ]
    }
   ],
   "source": [
    "# Target State Court page:\n",
    "url = \"https://www.lawnet.sg/lawnet/web/lawnet/free-resources?p_p_id=freeresources_WAR_lawnet3baseportlet&p_p_lifecycle=0&p_p_state=normal&p_p_mode=view&p_p_col_id=column-1&p_p_col_pos=2&p_p_col_count=3&_freeresources_WAR_lawnet3baseportlet_action=subordinate\"\n",
    "\n",
    "# Establishing the connection to the web page:\n",
    "response = requests.get(url)\n",
    "\n",
    "# You can use status codes to understand how the target server responds to your request.\n",
    "# Ex., 200 = OK, 400 = Bad Request, 403 = Forbidden, 404 = Not Found.\n",
    "print(response.status_code)\n",
    "\n",
    "# Pull the HTML string out of requests and convert it to a Python string.\n",
    "html = response.text"
   ]
  },
  {
   "cell_type": "markdown",
   "metadata": {},
   "source": [
    "<a id='step2'></a>\n",
    "### 2) Parse the HTML document with Beautiful Soup.\n",
    "\n",
    "This step allows us to access the elements of the document by XPath expressions."
   ]
  },
  {
   "cell_type": "code",
   "execution_count": 4,
   "metadata": {},
   "outputs": [],
   "source": [
    "state_court = BeautifulSoup(html, 'lxml')"
   ]
  },
  {
   "cell_type": "code",
   "execution_count": 5,
   "metadata": {
    "scrolled": false
   },
   "outputs": [
    {
     "data": {
      "text/plain": [
       "<!DOCTYPE html PUBLIC \"-//W3C//DTD XHTML 1.0 Transitional//EN\" \"http://www.w3.org/TR/xhtml1/DTD/xhtml1-transitional.dtd\">\n",
       "<html class=\"aui ltr\" dir=\"ltr\" lang=\"en-US\" xmlns=\"http://www.w3.org/1999/xhtml\"> <head> <title>LawNet</title> <meta content=\"text/html; charset=utf-8\" http-equiv=\"Content-Type\"/> <meta content=\"IE=Edge,chrome=1\" http-equiv=\"X-UA-Compatible\"/> <meta content=\"initial-scale=1.0, width=device-width\" name=\"viewport\"/> <meta content=\"text/html; charset=utf-8\" http-equiv=\"content-type\"/> <meta content=\"mhbLTH5TeiHfDigxRbfIh2ezJ2mGiulRZ00Q6YLdEDg\" name=\"google-site-verification\"/> <link href=\"https://www.lawnet.sg/lawnet3-lawnet-simple-theme/images/favicon_sg.ico\" rel=\"Shortcut Icon\"/> <link href=\"https://www.lawnet.sg/lawnet/web/lawnet/free-resources?p_p_id=freeresources_WAR_lawnet3baseportlet&amp;p_p_lifecycle=0&amp;p_p_state=normal&amp;p_p_mode=view&amp;p_p_col_id=column-1&amp;p_p_col_pos=2&amp;p_p_col_count=3&amp;_freeresources_WAR_lawnet3baseportlet_action=subordinate\" rel=\"canonical\"/> <link href=\"https://www.lawnet.sg/lawnet/ca/web/lawnet/free-resources\" hreflang=\"ca-ES\" rel=\"alternate\"/> <link href=\"https://www.lawnet.sg/lawnet/zh/web/lawnet/free-resources\" hreflang=\"zh-CN\" rel=\"alternate\"/> <link href=\"https://www.lawnet.sg/lawnet/web/lawnet/free-resources?p_p_id=freeresources_WAR_lawnet3baseportlet&amp;p_p_lifecycle=0&amp;p_p_state=normal&amp;p_p_mode=view&amp;p_p_col_id=column-1&amp;p_p_col_pos=2&amp;p_p_col_count=3&amp;_freeresources_WAR_lawnet3baseportlet_action=subordinate\" hreflang=\"x-default\" rel=\"alternate\"/> <link href=\"https://www.lawnet.sg/lawnet/web/lawnet/free-resources\" hreflang=\"en-US\" rel=\"alternate\"/> <link href=\"https://www.lawnet.sg/lawnet/fi/web/lawnet/free-resources\" hreflang=\"fi-FI\" rel=\"alternate\"/> <link href=\"https://www.lawnet.sg/lawnet/fr/web/lawnet/free-resources\" hreflang=\"fr-FR\" rel=\"alternate\"/> <link href=\"https://www.lawnet.sg/lawnet/de/web/lawnet/free-resources\" hreflang=\"de-DE\" rel=\"alternate\"/> <link href=\"https://www.lawnet.sg/lawnet/iw/web/lawnet/free-resources\" hreflang=\"iw-IL\" rel=\"alternate\"/> <link href=\"https://www.lawnet.sg/lawnet/hu/web/lawnet/free-resources\" hreflang=\"hu-HU\" rel=\"alternate\"/> <link href=\"https://www.lawnet.sg/lawnet/ja/web/lawnet/free-resources\" hreflang=\"ja-JP\" rel=\"alternate\"/> <link href=\"https://www.lawnet.sg/lawnet/pt/web/lawnet/free-resources\" hreflang=\"pt-BR\" rel=\"alternate\"/> <link href=\"https://www.lawnet.sg/lawnet/es/web/lawnet/free-resources\" hreflang=\"es-ES\" rel=\"alternate\"/> <link class=\"lfr-css-file\" href=\"https://www.lawnet.sg/lawnet3-lawnet-simple-theme/css/aui.css?browserId=other&amp;themeId=lawnet3lawnetsimple_WAR_lawnet3lawnetsimpletheme&amp;minifierType=css&amp;languageId=en_US&amp;b=6201&amp;t=1619625633000\" rel=\"stylesheet\" type=\"text/css\"/> <link href=\"/lawnet/html/css/main.css?browserId=other&amp;themeId=lawnet3lawnetsimple_WAR_lawnet3lawnetsimpletheme&amp;minifierType=css&amp;languageId=en_US&amp;b=6201&amp;t=1619625633000\" rel=\"stylesheet\" type=\"text/css\"/> <link href=\"https://www.lawnet.sg/lawnet3-portal-portlet/css/portal-menu/main.css?browserId=other&amp;themeId=lawnet3lawnetsimple_WAR_lawnet3lawnetsimpletheme&amp;minifierType=css&amp;languageId=en_US&amp;b=6201&amp;t=1620576158000\" rel=\"stylesheet\" type=\"text/css\"/> <link href=\"https://www.lawnet.sg/lawnet3-base-portlet/css/free-resources/main.css?browserId=other&amp;themeId=lawnet3lawnetsimple_WAR_lawnet3lawnetsimpletheme&amp;minifierType=css&amp;languageId=en_US&amp;b=6201&amp;t=1620576190000\" rel=\"stylesheet\" type=\"text/css\"/> <link href=\"https://www.lawnet.sg/lawnet/html/portlet/login/css/main.css?browserId=other&amp;themeId=lawnet3lawnetsimple_WAR_lawnet3lawnetsimpletheme&amp;minifierType=css&amp;languageId=en_US&amp;b=6201&amp;t=1620576047000\" rel=\"stylesheet\" type=\"text/css\"/> <script type=\"text/javascript\">var Liferay={Browser:{acceptsGzip:function(){return true},getMajorVersion:function(){return 0},getRevision:function(){return\"\"},getVersion:function(){return\"\"},isAir:function(){return false},isChrome:function(){return false},isFirefox:function(){return false},isGecko:function(){return false},isIe:function(){return false},isIphone:function(){return false},isLinux:function(){return false},isMac:function(){return false},isMobile:function(){return false},isMozilla:function(){return false},isOpera:function(){return false},isRtf:function(){return false},isSafari:function(){return false},isSun:function(){return false},isWap:function(){return false},isWapXhtml:function(){return false},isWebKit:function(){return false},isWindows:function(){return false},isWml:function(){return false}},Data:{NAV_SELECTOR:\"#navigation\",isCustomizationView:function(){return false},notices:[null]},ThemeDisplay:{getLayoutId:function(){return\"4\"},getLayoutURL:function(){return\"https://www.lawnet.sg/lawnet/web/lawnet/free-resources\"},getParentLayoutId:function(){return\"0\"},isPrivateLayout:function(){return\"false\"},isVirtualLayout:function(){return false},getBCP47LanguageId:function(){return\"en-US\"},getCDNBaseURL:function(){return\"https://www.lawnet.sg\"},getCDNDynamicResourcesHost:function(){return\"\"},getCDNHost:function(){return\"\"},getCompanyId:function(){return\"10157\"},getCompanyGroupId:function(){return\"10197\"},getDefaultLanguageId:function(){return\"en_US\"},getDoAsUserIdEncoded:function(){return\"\"},getLanguageId:function(){return\"en_US\"},getParentGroupId:function(){return\"10678\"},getPathContext:function(){return\"/lawnet\"},getPathImage:function(){return\"/lawnet/image\"},getPathJavaScript:function(){return\"/lawnet/html/js\"},getPathMain:function(){return\"/lawnet/c\"},getPathThemeImages:function(){return\"https://www.lawnet.sg/lawnet3-lawnet-simple-theme/images\"},getPathThemeRoot:function(){return\"/lawnet3-lawnet-simple-theme\"},getPlid:function(){return\"10719\"},getPortalURL:function(){return\"https://www.lawnet.sg\"},getPortletSetupShowBordersDefault:function(){return false},getScopeGroupId:function(){return\"10678\"},getScopeGroupIdOrLiveGroupId:function(){return\"10678\"},getSessionId:function(){return\"\"},getSiteGroupId:function(){return\"10678\"},getURLControlPanel:function(){return\"/lawnet/group/control_panel?refererPlid=10719\"},getURLHome:function(){return\"https\\x3a\\x2f\\x2fwww\\x2elawnet\\x2esg\\x2flawnet\\x2flawnet\\x2fweb\\x2flawnet\"},getUserId:function(){return\"10161\"},getUserName:function(){return\"\"},isAddSessionIdToURL:function(){return false},isFreeformLayout:function(){return false},isImpersonated:function(){return false},isSignedIn:function(){return false},isStateExclusive:function(){return false},isStateMaximized:function(){return false},isStatePopUp:function(){return false}},PropsValues:{NTLM_AUTH_ENABLED:false}};var themeDisplay=Liferay.ThemeDisplay;Liferay.AUI={getAvailableLangPath:function(){return\"available_languages.jsp?browserId=other&themeId=lawnet3lawnetsimple_WAR_lawnet3lawnetsimpletheme&colorSchemeId=01&minifierType=js&languageId=en_US&b=6201&t=1620576212000\"},getCombine:function(){return true},getComboPath:function(){return\"/lawnet/combo/?browserId=other&minifierType=&languageId=en_US&b=6201&t=1620576212000&\"},getFilter:function(){return\"min\"},getJavaScriptRootPath:function(){return\"/lawnet/html/js\"},getLangPath:function(){return\"aui_lang.jsp?browserId=other&themeId=lawnet3lawnetsimple_WAR_lawnet3lawnetsimpletheme&colorSchemeId=01&minifierType=js&languageId=en_US&b=6201&t=1620576212000\"}};Liferay.authToken=\"eljYXsEg\";Liferay.currentURL=\"\\x2flawnet\\x2fweb\\x2flawnet\\x2ffree-resources\\x3fp_p_id\\x3dfreeresources_WAR_lawnet3baseportlet\\x26p_p_lifecycle\\x3d0\\x26p_p_state\\x3dnormal\\x26p_p_mode\\x3dview\\x26p_p_col_id\\x3dcolumn-1\\x26p_p_col_pos\\x3d2\\x26p_p_col_count\\x3d3\\x26_freeresources_WAR_lawnet3baseportlet_action\\x3dsubordinate\";Liferay.currentURLEncoded=\"%2Flawnet%2Fweb%2Flawnet%2Ffree-resources%3Fp_p_id%3Dfreeresources_WAR_lawnet3baseportlet%26p_p_lifecycle%3D0%26p_p_state%3Dnormal%26p_p_mode%3Dview%26p_p_col_id%3Dcolumn-1%26p_p_col_pos%3D2%26p_p_col_count%3D3%26_freeresources_WAR_lawnet3baseportlet_action%3Dsubordinate\";</script> <script src=\"/lawnet/html/js/barebone.jsp?browserId=other&amp;themeId=lawnet3lawnetsimple_WAR_lawnet3lawnetsimpletheme&amp;colorSchemeId=01&amp;minifierType=js&amp;minifierBundleId=javascript.barebone.files&amp;languageId=en_US&amp;b=6201&amp;t=1620576212000\" type=\"text/javascript\"></script> <script type=\"text/javascript\">Liferay.Portlet.list=[\"portalmenu_WAR_lawnet3portalportlet\",\"researchtoolsutility_WAR_lawnet3researchtoolsportlet\",\"freeresources_WAR_lawnet3baseportlet\",\"58\"];</script> <script type=\"text/javascript\">var _gaq=_gaq||[];_gaq.push([\"_setAccount\",\"UA-65823134-1\"]);_gaq.push([\"_trackPageview\"]);(function(){var b=document.createElement(\"script\");b.async=true;b.src=(\"https:\"==document.location.protocol?\"https://ssl\":\"http://www\")+\".google-analytics.com/ga.js\";b.type=\"text/javascript\";var a=document.getElementsByTagName(\"script\")[0];a.parentNode.insertBefore(b,a)})();</script> <script src=\"https://www.lawnet.sg/lawnet3-researchtools-portlet/js/researchtools/main.js?browserId=other&amp;minifierType=js&amp;languageId=en_US&amp;b=6201&amp;t=1620576213000\" type=\"text/javascript\"></script> <link class=\"lfr-css-file\" href=\"https://www.lawnet.sg/lawnet3-lawnet-simple-theme/css/main.css?browserId=other&amp;themeId=lawnet3lawnetsimple_WAR_lawnet3lawnetsimpletheme&amp;minifierType=css&amp;languageId=en_US&amp;b=6201&amp;t=1619625633000\" rel=\"stylesheet\" type=\"text/css\"/> <style type=\"text/css\">.accordionInfoHolder li{display:block;overflow:visible;list-style:none;line-height:20px;margin-bottom:5px;height:auto}.loadingmask{display:none}div.alert-info{display:none}@media print{a[href]:after{content:none!important}}</style> <style type=\"text/css\"></style> <script src=\"https://www.lawnet.sg/lawnet3-lawnet-simple-theme/js/jquery-1.9.1.min.js\" type=\"text/javascript\"></script> <script src=\"https://www.lawnet.sg/lawnet3-lawnet-simple-theme/js/jquery-1.10.2.min.js\" type=\"text/javascript\"></script> <script src=\"https://www.lawnet.sg/lawnet3-lawnet-simple-theme/js/jquery-ui.min.js\" type=\"text/javascript\"></script> <script src=\"https://www.lawnet.sg/lawnet3-lawnet-simple-theme/js/jquery.cookie.min.js\" type=\"text/javascript\"></script> <script src=\"https://www.lawnet.sg/lawnet3-lawnet-simple-theme/js/jquery.ui.widget.min.js\" type=\"text/javascript\"></script> <script src=\"https://www.lawnet.sg/lawnet3-lawnet-simple-theme/js/jquery.ui.position.min.js\" type=\"text/javascript\"></script> <script src=\"https://www.lawnet.sg/lawnet3-lawnet-simple-theme/js/jquery.ui.tooltip.min.js\" type=\"text/javascript\"></script> <script src=\"https://www.lawnet.sg/lawnet3-lawnet-simple-theme/js/custom-form-elements.min.js\" type=\"text/javascript\"></script> <script src=\"https://www.lawnet.sg/lawnet3-lawnet-simple-theme/js/jquery.infieldlabel.min.js\" type=\"text/javascript\"></script> <script src=\"https://www.lawnet.sg/lawnet3-lawnet-simple-theme/js/custom.js\" type=\"text/javascript\"></script> <script src=\"https://www.lawnet.sg/lawnet3-lawnet-simple-theme/js/ddaccordion.min.js\" type=\"text/javascript\"></script> <script src=\"https://www.lawnet.sg/lawnet3-lawnet-simple-theme/js/jquery-scrolltofixed-min.js\" type=\"text/javascript\"></script> <script src=\"https://www.lawnet.sg/lawnet3-lawnet-simple-theme/js/jquery.datepick.min.js\" type=\"text/javascript\"></script> <script src=\"https://www.lawnet.sg/lawnet3-lawnet-simple-theme/js/dropkick/jquery.dropkick-min.js\" type=\"text/javascript\"></script> <script src=\"https://www.lawnet.sg/lawnet3-lawnet-simple-theme/js/treeview/jquery.treeview.min.js\" type=\"text/javascript\"></script> <link href=\"https://www.lawnet.sg/lawnet3-lawnet-simple-theme/css/jquery.ui.tooltip.css\" rel=\"stylesheet\" type=\"text/css\"/> <link href=\"https://www.lawnet.sg/lawnet3-lawnet-simple-theme/css/jquery.datepick.min.css\" rel=\"stylesheet\" type=\"text/css\"/> <link href=\"https://www.lawnet.sg/lawnet3-lawnet-simple-theme/js/dropkick/dropkick.min.css\" rel=\"stylesheet\" type=\"text/css\"/> <link href=\"https://www.lawnet.sg/lawnet3-lawnet-simple-theme/js/treeview/jquery.treeview.min.css\" rel=\"stylesheet\" type=\"text/css\"/> <!--[if lte IE 6]> <style type=\"text/css\" media=\"screen\"> form label { background: #fff; } </style> <![endif]--> </head> <body class=\"yui3-skin-sam controls-visible signed-out public-page site dockbar-split\"> <a href=\"#main-content\" id=\"skip-to-content\">Skip to Content</a> <div class=\"container-fluid\" id=\"wrapper\"> <div id=\"wrapper\"> <div id=\"content\"> <!-- <nav id=\"breadcrumbs\"> <ul aria-label=\"Breadcrumb\" class=\"breadcrumb\"> <li class=\"first\"><a href=\"/lawnet/web/lawnet\">LawNet</a><span class=\"divider\">/</span></li><li class=\"active last\"><a href=\"https://www.lawnet.sg/lawnet/web/lawnet/free-resources\" >Free Resources</a><span class=\"divider\">/</span></li> </ul> </nav> --> <div class=\"columns-1-2\" id=\"main-content\" role=\"main\"> <div class=\"portlet-layout row-fluid\"> <div class=\"portlet-column portlet-column-only span12\" id=\"column-1\"> <div class=\"portlet-dropzone portlet-column-content portlet-column-content-only\" id=\"layout-column_column-1\"> <div class=\"portlet-boundary portlet-boundary_portalmenu_WAR_lawnet3portalportlet_ portlet-static portlet-static-start portlet-borderless portal-menu\" id=\"p_p_id_portalmenu_WAR_lawnet3portalportlet_\"> <span id=\"p_portalmenu_WAR_lawnet3portalportlet\"></span> <div class=\"portlet-borderless-container\" style=\"\"> <div class=\"portlet-body\"> <div id=\"headerContainer\"> <div class=\"prelogin\" id=\"header\"> <div id=\"mainHeader\"> <a href=\"/lawnet\"><img alt=\"Logo\" class=\"mainLogo\" src=\"/lawnet3-lawnet-simple-theme/images/common/lawnet_logo.jpg\"/></a> <div id=\"rightMainHeader\"> <ul class=\"headerSearch\" style=\"margin-bottom: 10px;\"> <li> <form method=\"POST\" name=\"_portalmenu_WAR_lawnet3portalportlet_fm\"> <script>function portalPortletSearch(){var b=document._portalmenu_WAR_lawnet3portalportlet_fm._portalmenu_WAR_lawnet3portalportlet_keyword.value;var d=\"https://www.lawnet.sg:443/lawnet/web/lawnet/portal-search?p_p_id=3&p_p_lifecycle=0&p_p_col_id=column-1&p_p_col_count=3&_3_struts_action=%2Fsearch%2Fsearch&_3_keywords=searchKeyword\";d=d.replace(\"searchKeyword\",b);var c=\"https://www.lawnet.sg:443/lawnet/web/lawnet/related-sites-search?p_p_id=relatedsitesearchportlet_WAR_lawnet3legalresearchportlet&p_p_lifecycle=0&p_p_col_id=column-1&p_p_col_count=3&_relatedsitesearchportlet_WAR_lawnet3legalresearchportlet_struts_action=%2Fsearch%2Fsearch&_relatedsitesearchportlet_WAR_lawnet3legalresearchportlet_searchKey=searchKeyword\";c=c.replace(\"searchKeyword\",b);var a=$(\"input[name=mainSearch]:checked\").val();if(a.trim()==\"portalSearch\"){document._portalmenu_WAR_lawnet3portalportlet_fm.action=d}else{if(a.trim()==\"relatedSitesSearch\"){document._portalmenu_WAR_lawnet3portalportlet_fm.action=c}}document._portalmenu_WAR_lawnet3portalportlet_fm.submit()};</script> <div class=\"searchBox\"> <input name=\"_portalmenu_WAR_lawnet3portalportlet_keyword\" onkeypress=\"javascript: if(event.keyCode==13) portalPortletSearch(); return true;\" placeholder=\"SEARCH\" type=\"text\" value=\"\"/> <a class=\"search-icon\" onclick=\"portalPortletSearch();\"></a> </div> <div class=\"searchOptions\"> <p class=\"floatLeft\"> <input checked=\"checked\" class=\"styled\" id=\"portalSearch\" name=\"mainSearch\" type=\"radio\" value=\"portalSearch\"/> <label class=\"myLawnetTooltip\" title=\"Search the LawNet portal information pages\">Portal</label> </p> <p class=\"floatRight\"> <input class=\"styled\" id=\"relatedSitesSearch\" name=\"mainSearch\" type=\"radio\" value=\"relatedSitesSearch\"/> <label class=\"myLawnetTooltip\" title=\"Search the websites of Singapore Academy of Law,Singapore Law,ASEAN Law Association and the Law Society of Singapore\">Related Sites</label> </p> </div> <div class=\"hidden-submit\"><input tabindex=\"-1\" type=\"submit\"/></div> </form> </li> <li> <div class=\"fontOptions\"> <a href=\"#\" onclick=\"increasefontsize();\"><img alt=\"Increase Font Size\" src=\"https://www.lawnet.sg/lawnet3-lawnet-simple-theme/images/common/font_increase.png\"/></a> <a href=\"#\" onclick=\"decreasefontsize();\"><img alt=\"Decrease Font Size\" src=\"https://www.lawnet.sg/lawnet3-lawnet-simple-theme/images/common/font_decrease.png\"/></a> <script>function increasefontsize(){var a=$(\".normalFont\");$.each(a,function(b,c){$(this).removeClass(\"normalFont\");$(this).addClass(\"bigFont\")});var a=$(\".smallFont\");$.each(a,function(b,c){$(this).removeClass(\"smallFont\");$(this).addClass(\"normalFont\")})}function decreasefontsize(){var a=$(\".normalFont\");$.each(a,function(b,c){$(this).removeClass(\"normalFont\");$(this).addClass(\"smallFont\")});var a=$(\".bigFont\");$.each(a,function(b,c){$(this).removeClass(\"bigFont\");$(this).addClass(\"normalFont\")})}$(document).ready(function(){var a=$(\".asset-entry-summary\");$.each(a,function(b,c){$(this).addClass(\"normalFont\")})});</script> </div> </li> </ul> <ul class=\"headerNav\"> <li class=\"lastNavList\"><a href=\"/help\" target=\"_blank\">Help</a></li> <!-- <li><a href=\"https://www.lawnet.sg:443/lawnet/web/lawnet/sitemap?p_p_id=85&p_p_lifecycle=0&p_p_col_id=column-1&p_p_col_count=3\">Sitemap</a></li> --> <li><a href=\"https://www.lawnet.sg:443/lawnet/web/lawnet/contact-us?p_p_id=56&amp;p_p_lifecycle=0&amp;p_p_col_id=column-1&amp;p_p_col_count=3\">Contact Us</a></li> <li><a href=\"https://www.lawnet.sg:443/lawnet/web/lawnet/about-lawnet?p_p_id=56&amp;p_p_lifecycle=0&amp;p_p_col_id=column-1&amp;p_p_col_count=3\">About LawNet</a></li> </ul> </div> </div> <div class=\"with-no-premium\" id=\"navHolder\"> <style type=\"text/css\">#criminal-practice .megaBottomCap .megaColumn:nth-child(2) h3{padding-bottom:50px}</style> <div class=\"topNav megaHolder\"> <ul style=\"width:90%; float:left;\"> <li class=\"megamenu custommegamenu\"><a href=\"#\" onclick=\"javascript:_portalmenu_WAR_lawnet3portalportlet_toggleMM('home', 'https://www.lawnet.sg/lawnet/web/lawnet/home');return false;\"><span><?xml version='1.0' encoding='UTF-8'?><root available-locales=\"en_US\" default-locale=\"en_US\"><name language-id=\"en_US\">Home</name></root></span></a></li> <li class=\"megamenu custommegamenu myLawnetTooltip\" title=\"Information about LawNet Services\"><a href=\"#\" onclick=\"javascript:_portalmenu_WAR_lawnet3portalportlet_toggleMM('services', 'https://www.lawnet.sg/lawnet/web/lawnet/services');return false;\"><span><?xml version='1.0' encoding='UTF-8'?><root available-locales=\"en_US\" default-locale=\"en_US\"><name language-id=\"en_US\">Services</name></root></span></a></li> <li class=\"megamenu custommegamenu\"><a href=\"#\" onclick=\"javascript:_portalmenu_WAR_lawnet3portalportlet_toggleMM('premium', 'https://www.lawnet.sg/lawnet/web/lawnet/premium-content');return false;\"><span><?xml version='1.0' encoding='UTF-8'?><root available-locales=\"en_US\" default-locale=\"en_US\"><name language-id=\"en_US\">Premium</name></root></span></a></li> <li class=\"megamenu custommegamenu myLawnetTooltip\" title=\"Information about pricing,how to subscribe and changes to existing subscriptions\"><a href=\"#\" onclick=\"javascript:_portalmenu_WAR_lawnet3portalportlet_toggleMM('subscriptions', 'https://www.lawnet.sg/lawnet/web/lawnet/subcriptions');return false;\"><span><?xml version='1.0' encoding='UTF-8'?><root available-locales=\"en_US\" default-locale=\"en_US\"><name language-id=\"en_US\">Subscriptions</name></root></span></a></li> <li class=\"megamenu custommegamenu myLawnetTooltip\" title=\"Links to other law-related resources\"><a href=\"#\" onclick=\"javascript:_portalmenu_WAR_lawnet3portalportlet_toggleMM('useful-links', 'https://www.lawnet.sg/lawnet/web/lawnet/useful-links');return false;\"><span><?xml version='1.0' encoding='UTF-8'?><root available-locales=\"en_US\" default-locale=\"en_US\"><name language-id=\"en_US\">Useful Links</name></root></span></a></li> <li class=\"selected megamenu custommegamenu myLawnetTooltip\" title=\"Links to free law resources\"><a href=\"#\" onclick=\"javascript:_portalmenu_WAR_lawnet3portalportlet_toggleMM('free-resources', 'https://www.lawnet.sg/lawnet/web/lawnet/free-resources');return false;\"><span><?xml version='1.0' encoding='UTF-8'?><root available-locales=\"en_US\" default-locale=\"en_US\"><name language-id=\"en_US\">Free Resources</name></root></span></a></li> </ul> </div> <div class=\"bottomNav\"> <span class=\"leftNavCap\"> </span> <div class=\"middleNav\"> <ul class=\"userLogin\"> <li class=\"first\"> <form action=\"https://www.lawnet.sg:443/lawnet/web/lawnet/free-resources?p_p_id=58&amp;p_p_lifecycle=1&amp;p_p_state=normal&amp;p_p_mode=view&amp;p_p_col_id=column-1&amp;p_p_col_count=3&amp;_58_struts_action=%2Flogin%2Flogin\" autocomplete=\"off\" id=\"_58_fm\" method=\"post\" name=\"_58_fm\"> <p> <span> <input autocomplete=\"off\" id=\"_58_login\" name=\"_58_login\" placeholder=\"Login ID\" style=\"outline: 0;\" type=\"text\" value=\"\"/>\n",
       "</span>\n",
       "</p>\n",
       "<p>\n",
       "<span>\n",
       "<input autocomplete=\"off\" id=\"_58_password\" name=\"_58_password\" placeholder=\"Password\" type=\"password\" value=\"\"/>\n",
       "</span>\n",
       "</p>\n",
       "<!--Enable remember me feature so that annotation web service can be secured (check login user id using ID and Password cookie)-->\n",
       "<input class=\"field\" id=\"_58_rememberMe\" name=\"_58_rememberMe\" type=\"hidden\" value=\"true\"/>\n",
       "<input name=\"login\" type=\"submit\" value=\"Login\"/>\n",
       "</form>\n",
       "</li>\n",
       "<li class=\"last\"><a href=\"https://www.lawnet.sg:443/lawnet/web/lawnet/forgot-password?p_p_id=58&amp;p_p_lifecycle=0&amp;p_p_col_id=column-1&amp;p_p_col_count=3\">Forgot Password</a></li>\n",
       "</ul>\n",
       "<ul class=\"payServices\">\n",
       "<li><a href=\"/lawnet/web/lawnet/pay-per-use-services\">Pay Per Use Services</a></li>\n",
       "</ul>\n",
       "</div>\n",
       "<span class=\"rightNavCap\"> </span>\n",
       "</div>\n",
       "<div id=\"_portalmenu_WAR_lawnet3portalportlet_error-holder\"></div>\n",
       "</div>\n",
       "</div><!-- Header Ends -->\n",
       "</div>\n",
       "<script type=\"text/javascript\">\n",
       "\n",
       "var originalHeight = 0;\n",
       "\n",
       "var megaMenuHeight = 0;\n",
       "\n",
       "\n",
       "function pageRedirect() {\n",
       "\t\n",
       "}\n",
       "\n",
       "function _portalmenu_WAR_lawnet3portalportlet_toggleMM(normalizedLayoutName, url){\n",
       "\tvar el = jQuery('#'+ normalizedLayoutName);\n",
       "\n",
       "\tif(el.html()==undefined) {\n",
       "\t\twindow.open(url, '_self');\n",
       "\t}else{\n",
       "\t\tvar status = el.is(\":visible\");\n",
       "\t\n",
       "\t\tjQuery('.mega-menu').hide();\n",
       "\t\t\n",
       "\t\tvar elHeight = 0;\n",
       "\n",
       "\t\tif(!status) {\n",
       "\n",
       "\t\t\toriginalHeight = jQuery('#content').height();\n",
       "\n",
       "\t\t\tjQuery('#'+ normalizedLayoutName).show();\n",
       "\t\t\t\n",
       "\t\t\telHeight = jQuery('#'+ normalizedLayoutName).height();\n",
       "\t\t\t\n",
       "\t\t\tcontent = jQuery('#content');\n",
       "\n",
       "\t\t\tcontent.attr(\"style\", \"min-height: \"+(elHeight+270)+\"px !important;\");\n",
       "\t\t}else{\n",
       "\t\t\tjQuery('#'+ normalizedLayoutName).hide();\n",
       "\n",
       "\t\t\tcontent = jQuery('#content');\n",
       "\n",
       "\t\t\t//content.height(originalHeight);\n",
       "\n",
       "\t\t\tcontent.attr(\"style\", \"height: auto;\");\n",
       "\t\t}\n",
       "\t}\n",
       "}\n",
       "function _portalmenu_WAR_lawnet3portalportlet_checkServer(url, logoutURL){\n",
       "\tvar el = jQuery('#timerStartbtn').val();\n",
       "\n",
       "\tif(el==\"Stop\") {\n",
       "\t\tif(confirm(\"Client Tracker is detected running. Do you wish to continue and lost all your changes?\")){\n",
       "\t\t\twindow.location.href = logoutURL;\n",
       "\t\t}else{\n",
       "\t\t\t// do nothing\n",
       "\t\t}\n",
       "\t}else if(el==\"Start\"){\n",
       "\t\twindow.location.href = logoutURL;\n",
       "\t}else{\n",
       "\t\t$.ajax({\n",
       "\t        dataType: \"json\",\n",
       "\t        url:url,\n",
       "\t\t      success : function(data) {\n",
       "\t\t    \t  var isTimerStart = data['isTimerStart'];\n",
       "\t\t    \t  if(isTimerStart) {\n",
       "\t\t  \t\t\tif(confirm(\"Client Tracker is detected running. Do you wish to continue and lost all your changes?\")){\n",
       "\t\t  \t\t\t\twindow.location.href = logoutURL;\n",
       "\t\t  \t\t\t}else{\n",
       "\t\t  \t\t\t\t// do nothing\n",
       "\t\t  \t\t\t}\n",
       "\t\t  \t\t}else{\n",
       "\t\t  \t\t\twindow.location.href = logoutURL;\n",
       "\t\t  \t\t}\n",
       "\t\t      },\n",
       "\t\t      error: function() {\n",
       "\t\t    \t  \n",
       "\t\t      }\n",
       "\t        });\n",
       "\t}\n",
       "  }\n",
       "\t\n",
       "\n",
       "\n",
       "</script>\n",
       "</div>\n",
       "</div>\n",
       "</div>\n",
       "<div class=\"portlet-boundary portlet-boundary_researchtoolsutility_WAR_lawnet3researchtoolsportlet_ portlet-static portlet-static-start portlet-borderless researchtoolsutility\" id=\"p_p_id_researchtoolsutility_WAR_lawnet3researchtoolsportlet_\">\n",
       "<span id=\"p_researchtoolsutility_WAR_lawnet3researchtoolsportlet\"></span>\n",
       "<div class=\"portlet-borderless-container\" style=\"\">\n",
       "<div class=\"portlet-body\">\n",
       "</div>\n",
       "</div>\n",
       "</div>\n",
       "<div class=\"portlet-boundary portlet-boundary_freeresources_WAR_lawnet3baseportlet_ portlet-static portlet-static-end portlet-borderless\" id=\"p_p_id_freeresources_WAR_lawnet3baseportlet_\">\n",
       "<span id=\"p_freeresources_WAR_lawnet3baseportlet\"></span>\n",
       "<div class=\"portlet-borderless-container\" style=\"\">\n",
       "<div class=\"portlet-body\">\n",
       "<style>\n",
       ".resultDisplay {\n",
       "\twidth: 100%;\n",
       "}\n",
       "</style>\n",
       "<link href=\"/lawnet3-base-portlet/css/free-resources/style.css\" rel=\"stylesheet\" type=\"text/css\"/> <style> </style> <form action=\"https://www.lawnet.sg:443/lawnet/web/lawnet/free-resources?p_p_id=freeresources_WAR_lawnet3baseportlet&amp;p_p_lifecycle=1&amp;p_p_state=normal&amp;p_p_mode=view&amp;p_p_col_id=column-1&amp;p_p_col_pos=2&amp;p_p_col_count=3&amp;_freeresources_WAR_lawnet3baseportlet_action=openContentPage\" method=\"post\" name=\"openContentForm\" target=\"_blank\"> </form> <div class=\"leftContent\" style=\"width:900px;\"> <div class=\"breadcrumb\"> <ul> <li><a href=\"/lawnet/web/lawnet/home\">Home</a></li> <li><span>&gt;</span></li> <li><a href=\"https://www.lawnet.sg:443/lawnet/web/lawnet/free-resources?p_p_id=freeresources_WAR_lawnet3baseportlet&amp;p_p_lifecycle=0&amp;p_p_state=normal&amp;p_p_mode=view&amp;p_p_col_id=column-1&amp;p_p_col_pos=2&amp;p_p_col_count=3&amp;_freeresources_WAR_lawnet3baseportlet_action=view\">Free Resources</a></li> <li><span>&gt;</span></li> <li>Latest Singapore Judgments - State Court Judgments of the last 3 months</li> </ul> </div> <span class=\"lawnet-header\">Latest Singapore Judgments - State Court Judgments of the last 3 months</span> <p>Showing <b>1 - 20</b> of <b>65</b> documents. <a href=\"https://www.lawnet.sg:443/lawnet/web/lawnet/free-resources?p_p_id=freeresources_WAR_lawnet3baseportlet&amp;p_p_lifecycle=2&amp;p_p_state=normal&amp;p_p_mode=view&amp;p_p_resource_id=subordinateRSS&amp;p_p_cacheability=cacheLevelPage&amp;p_p_col_id=column-1&amp;p_p_col_pos=2&amp;p_p_col_count=3&amp;_freeresources_WAR_lawnet3baseportlet_total=65\" target=\"_blank\"> <img src=\"/lawnet3-base-portlet/images/common/icon_rss.png\"/> </a> </p> <ul class=\"searchResultsHolder\"> <li class=\"resultsHeader\"><p class=\"resultsDate\">Decision Date</p><p class=\"resultsTitle\">Title</p></li> <li><p class=\"resultsDate\">30 Apr 2021</p><p class=\"publishedDate\" style=\"display:none;\">2021-05-07T03:00:01.0000000+08:00</p><p class=\"resultsTitle\"><a href=\"javascript:viewContent('/Judgment/25954-SSP.xml')\"> Public Prosecutor v Islam Mohammad Tariqul - [2021] SGMC 27</a></p></li> <li><p class=\"resultsDate\">30 Apr 2021</p><p class=\"publishedDate\" style=\"display:none;\">2021-05-06T03:00:00.0000000+08:00</p><p class=\"resultsTitle\"><a href=\"javascript:viewContent('/Judgment/25945-SSP.xml')\"> Public Prosecutor v Muhammad Haikal Hakim bin Zulkifli - [2021] SGDC 80</a></p></li> <li><p class=\"resultsDate\">29 Apr 2021</p><p class=\"publishedDate\" style=\"display:none;\">2021-05-08T03:00:01.0000000+08:00</p><p class=\"resultsTitle\"><a href=\"javascript:viewContent('/Judgment/25959-SSP.xml')\"> Public Prosecutor v Jeremiah Lim Kok Kee - [2021] SGDC 81</a></p></li> <li><p class=\"resultsDate\">26 Apr 2021</p><p class=\"publishedDate\" style=\"display:none;\">2021-05-03T03:00:01.0000000+08:00</p><p class=\"resultsTitle\"><a href=\"javascript:viewContent('/Judgment/25939-SSP.xml')\"> Public Prosecutor v Pua Om Tee - [2021] SGMC 25</a></p></li> <li><p class=\"resultsDate\">22 Apr 2021</p><p class=\"publishedDate\" style=\"display:none;\">2021-05-07T03:00:01.0000000+08:00</p><p class=\"resultsTitle\"><a href=\"javascript:viewContent('/Judgment/25953-SSP.xml')\"> Public Prosecutor v Oon Joo Seng - [2021] SGMC 23</a></p></li> <li><p class=\"resultsDate\">22 Apr 2021</p><p class=\"publishedDate\" style=\"display:none;\">2021-04-30T03:00:01.0000000+08:00</p><p class=\"resultsTitle\"><a href=\"javascript:viewContent('/Judgment/25933-SSP.xml')\"> Public Prosecutor v Yak Eng Hwee - [2021] SGDC 79</a></p></li> <li><p class=\"resultsDate\">21 Apr 2021</p><p class=\"publishedDate\" style=\"display:none;\">2021-05-08T03:00:01.0000000+08:00</p><p class=\"resultsTitle\"><a href=\"javascript:viewContent('/Judgment/25887-SSP.xml')\"> Public Prosecutor v Abdul Rahman Bin A Karim - [2021] SGDC 72</a></p></li> <li><p class=\"resultsDate\">16 Apr 2021</p><p class=\"publishedDate\" style=\"display:none;\">2021-04-27T03:00:00.0000000+08:00</p><p class=\"resultsTitle\"><a href=\"javascript:viewContent('/Judgment/25881-SSP.xml')\"> Raveendran Rakesh v Jason Mike Nathan and another - [2021] SGDC 73</a></p></li> <li><p class=\"resultsDate\">15 Apr 2021</p><p class=\"publishedDate\" style=\"display:none;\">2021-04-22T03:00:01.0000000+08:00</p><p class=\"resultsTitle\"><a href=\"javascript:viewContent('/Judgment/25853-SSP.xml')\"> Public Prosecutor v Chew Jia Ying - [2021] SGMC 24</a></p></li> <li><p class=\"resultsDate\">14 Apr 2021</p><p class=\"publishedDate\" style=\"display:none;\">2021-04-21T03:00:01.0000000+08:00</p><p class=\"resultsTitle\"><a href=\"javascript:viewContent('/Judgment/25849-SSP.xml')\"> Public Prosecutor v Ramanujam Sridhar - [2021] SGDC 70</a></p></li> <li><p class=\"resultsDate\">14 Apr 2021</p><p class=\"publishedDate\" style=\"display:none;\">2021-05-08T03:00:01.0000000+08:00</p><p class=\"resultsTitle\"><a href=\"javascript:viewContent('/Judgment/25958-SSP.xml')\"> Mohinani Jairaj Shewaram v Tan Hock Soon - [2021] SGDC 74</a></p></li> <li><p class=\"resultsDate\">13 Apr 2021</p><p class=\"publishedDate\" style=\"display:none;\">2021-04-23T03:00:00.0000000+08:00</p><p class=\"resultsTitle\"><a href=\"javascript:viewContent('/Judgment/25869-SSP.xml')\"> Tey Leng Yen v Mai Xun Yao - [2021] SGDC 65</a></p></li> <li><p class=\"resultsDate\">09 Apr 2021</p><p class=\"publishedDate\" style=\"display:none;\">2021-04-23T03:00:00.0000000+08:00</p><p class=\"resultsTitle\"><a href=\"javascript:viewContent('/Judgment/25870-SSP.xml')\"> Nech Asia Fund v KGI Securities (Singapore) Pte Ltd - [2021] SGDC 68</a></p></li> <li><p class=\"resultsDate\">09 Apr 2021</p><p class=\"publishedDate\" style=\"display:none;\">2021-04-17T03:00:00.0000000+08:00</p><p class=\"resultsTitle\"><a href=\"javascript:viewContent('/Judgment/25843-SSP.xml')\"> The Central Provident Fund Board v Libra Group Limited - [2021] SGDC 69</a></p></li> <li><p class=\"resultsDate\">09 Apr 2021</p><p class=\"publishedDate\" style=\"display:none;\">2021-04-16T03:00:01.0000000+08:00</p><p class=\"resultsTitle\"><a href=\"javascript:viewContent('/Judgment/25842-SSP.xml')\"> Public Prosecutor v Shahrul Nizam Bin Kharuddin - [2021] SGDC 67</a></p></li> <li><p class=\"resultsDate\">09 Apr 2021</p><p class=\"publishedDate\" style=\"display:none;\">2021-04-16T03:00:01.0000000+08:00</p><p class=\"resultsTitle\"><a href=\"javascript:viewContent('/Judgment/25841-SSP.xml')\"> Public Prosecutor v Tan Chin Boon - [2021] SGDC 66</a></p></li> <li><p class=\"resultsDate\">06 Apr 2021</p><p class=\"publishedDate\" style=\"display:none;\">2021-04-14T03:00:00.0000000+08:00</p><p class=\"resultsTitle\"><a href=\"javascript:viewContent('/Judgment/25838-SSP.xml')\"> Public Prosecutor v Foo Siew Tong - [2021] SGMC 22</a></p></li> <li><p class=\"resultsDate\">06 Apr 2021</p><p class=\"publishedDate\" style=\"display:none;\">2021-04-11T03:00:00.0000000+08:00</p><p class=\"resultsTitle\"><a href=\"javascript:viewContent('/Judgment/25828-SSP.xml')\"> GDG v GDI - [2021] SGMC 21</a></p></li> <li><p class=\"resultsDate\">05 Apr 2021</p><p class=\"publishedDate\" style=\"display:none;\">2021-04-09T03:00:00.0000000+08:00</p><p class=\"resultsTitle\"><a href=\"javascript:viewContent('/Judgment/25824-SSP.xml')\"> Public Prosecutor v Kwan Soo Chin - [2021] SGMC 20</a></p></li> <li><p class=\"resultsDate\">05 Apr 2021</p><p class=\"publishedDate\" style=\"display:none;\">2021-04-11T03:00:00.0000000+08:00</p><p class=\"resultsTitle\"><a href=\"javascript:viewContent('/Judgment/25826-SSP.xml')\"> Public Prosecutor v Mohamed Ardlee Iriandee bin Mohamed Sanip - [2021] SGDC 64</a></p></li> </ul> <br/> <br/> <style type=\"text/css\">.contentPagination li.firstPageActive a span,.contentPagination li.prevPageActive a span,.contentPagination li.nextPageActive a span,.contentPagination li.lastPageActive a span{display:block;overflow:hidden;padding-left:10px;background:none!important}.contentPagination li.firstPage a,.contentPagination li.prevPage a,.contentPagination li.nextPage a,.contentPagination li.lastPage a,.contentPagination li.firstPageActive a,.contentPagination li.prevPageActive a,.contentPagination li.nextPageActive a,.contentPagination li.lastPageActive a{width:16px;height:25px;padding:0;text-indent:-9999px;background-image:url(https://www.lawnet.sg/lawnet3-lawnet-simple-theme/images/common/pagination_controls_all.png)!important;background-repeat:no-repeat}</style> <script type=\"text/javascript\">function _freeresources_WAR_lawnet3baseportlet_jumpToPage(a){if(a==\"\"){alert(\"Please Enter Page Number\");return false}else{if(parseInt(a)<=0||parseInt(a)>4){alert(\"Please Enter Page Number from 1 to 4\");return false}else{pageURL=\"https://www.lawnet.sg:443/lawnet/web/lawnet/free-resources?p_p_id=freeresources_WAR_lawnet3baseportlet&p_p_lifecycle=1&p_p_state=normal&p_p_mode=view&p_p_col_id=column-1&p_p_col_pos=2&p_p_col_count=3&_freeresources_WAR_lawnet3baseportlet_action=openContentPage\";pageURL=pageURL.replace(/(researchtools_WAR_lawnet3researchtoolsportlet=\\d+)/g,\"_freeresources_WAR_lawnet3baseportlet_cur=\"+a);document._freeresources_WAR_lawnet3baseportlet_paginationForm.action=pageURL;document._freeresources_WAR_lawnet3baseportlet_paginationForm.submit()}}}function numbersonly(f,b,d){var a;var c;if(window.event){a=window.event.keyCode}else{if(b){a=b.which}else{return true}}c=String.fromCharCode(a);if((a==null)||(a==0)||(a==8)||(a==9)||(a==13)||(a==27)){return true}else{if(((\"0123456789\").indexOf(c)>-1)){return true}else{if(d&&(c==\".\")){f.form.elements[d].focus();return false}else{return false}}}};</script> <!-- Pagination Start --> <form action=\"https://www.lawnet.sg:443/lawnet/web/lawnet/free-resources?p_p_id=freeresources_WAR_lawnet3baseportlet&amp;p_p_lifecycle=1&amp;p_p_state=normal&amp;p_p_mode=view&amp;p_p_col_id=column-1&amp;p_p_col_pos=2&amp;p_p_col_count=3&amp;_freeresources_WAR_lawnet3baseportlet_action=openContentPage\" method=\"POST\" name=\"_freeresources_WAR_lawnet3baseportlet_paginationForm\"> <input id=\"hiddenId\" type=\"hidden\" value=\"\"/>\n",
       "<div class=\"resultDisplay\">\n",
       "<div class=\"contentPagination\">\n",
       "<ul>\n",
       "<li class=\"firstPage myLawnetTooltip\" title=\"First page\"><a>First</a></li>\n",
       "<li class=\"prevPage myLawnetTooltip\" title=\"Previous page\"><a>Prev</a></li>\n",
       "<li class=\"thisPage\"><a><span>1</span></a></li>\n",
       "<li><a href=\"#\" onclick=\"javascript:_freeresources_WAR_lawnet3baseportlet_changePageNo(2); return false;\"><span>2</span></a></li>\n",
       "<li><a href=\"#\" onclick=\"javascript:_freeresources_WAR_lawnet3baseportlet_changePageNo(3); return false;\"><span>3</span></a></li>\n",
       "<li>...</li>\n",
       "<li><a href=\"#\" onclick=\"javascript:_freeresources_WAR_lawnet3baseportlet_changePageNo(4); return false;\"><span>4</span></a></li>\n",
       "<li class=\"nextPageActive myLawnetTooltip\" title=\"Next page\"><a href=\"#\" onclick=\"javascript:_freeresources_WAR_lawnet3baseportlet_changePageNo(2); return false;\"><span>Next</span></a></li>\n",
       "<li class=\"lastPageActive myLawnetTooltip\" title=\"Last page\"><a href=\"#\" onclick=\"javascript:_freeresources_WAR_lawnet3baseportlet_changePageNo(4); return false;\"><span>Last</span></a></li>\n",
       "</ul>\n",
       "<div class=\"gotoPage\">\n",
       "<p>Go to</p>\n",
       "<span>\n",
       "<input maxlength=\"4\" name=\"_freeresources_WAR_lawnet3baseportlet_cur\" onkeypress=\"return numbersonly(this, event)\" type=\"text\" value=\"\"/> </span> <input onclick=\"_freeresources_WAR_lawnet3baseportlet_changePageNo(this.form._freeresources_WAR_lawnet3baseportlet_cur.value);return false;\" src=\"https://www.lawnet.sg/lawnet3-lawnet-simple-theme/images/common/pagination_goto_submit_btn.jpg\" type=\"image\"/> </div> </div><!-- Pagination End --> </div> </form> </div> <form action=\"https://www.lawnet.sg:443/lawnet/web/lawnet/free-resources?p_p_id=freeresources_WAR_lawnet3baseportlet&amp;p_p_lifecycle=1&amp;p_p_state=normal&amp;p_p_mode=view&amp;p_p_col_id=column-1&amp;p_p_col_pos=2&amp;p_p_col_count=3&amp;_freeresources_WAR_lawnet3baseportlet_action=search\" class=\"form\" id=\"_freeresources_WAR_lawnet3baseportlet_searchpageno\" method=\"post\" name=\"_freeresources_WAR_lawnet3baseportlet_searchpageno\"> <input name=\"_freeresources_WAR_lawnet3baseportlet_formDate\" type=\"hidden\" value=\"1620612666999\"/> <input class=\"field\" id=\"_freeresources_WAR_lawnet3baseportlet_currentPage\" name=\"_freeresources_WAR_lawnet3baseportlet_currentPage\" type=\"hidden\" value=\"\"/> <input class=\"field\" id=\"_freeresources_WAR_lawnet3baseportlet_selecteditems\" name=\"_freeresources_WAR_lawnet3baseportlet_selecteditems\" type=\"hidden\" value=\"\"/> </form> <script type=\"text/javascript\">function openRSS(){window.open(\"https://www.lawnet.sg:443/lawnet/web/lawnet/free-resources?p_p_id=freeresources_WAR_lawnet3baseportlet&p_p_lifecycle=2&p_p_state=normal&p_p_mode=view&p_p_resource_id=subordinateRSS&p_p_cacheability=cacheLevelPage&p_p_col_id=column-1&p_p_col_pos=2&p_p_col_count=3&_freeresources_WAR_lawnet3baseportlet_total=65\")}function viewContent(b){var c=\"https://www.lawnet.sg:443/lawnet/web/lawnet/free-resources?p_p_id=freeresources_WAR_lawnet3baseportlet&p_p_lifecycle=1&p_p_state=normal&p_p_mode=view&p_p_col_id=column-1&p_p_col_pos=2&p_p_col_count=3&_freeresources_WAR_lawnet3baseportlet_action=openContentPage\";c=c+\"&_freeresources_WAR_lawnet3baseportlet_docId=\"+b;document.openContentForm.action=c;document.openContentForm.submit()}window._freeresources_WAR_lawnet3baseportlet_changePageNo=function(b){var a=parseInt(\"4\");if(b==\"\"||parseInt(b)>a){alert(\"Please Enter Page Number from 1 to \"+a);return false}else{var d=\"subordinate\";var c=\"\";if(d==\"supreme\"){c=\"https://www.lawnet.sg:443/lawnet/web/lawnet/free-resources?p_p_id=freeresources_WAR_lawnet3baseportlet&p_p_lifecycle=0&p_p_state=normal&p_p_mode=view&p_p_col_id=column-1&p_p_col_pos=2&p_p_col_count=3&_freeresources_WAR_lawnet3baseportlet_action=supreme\"}if(d==\"subordinate\"){c=\"https://www.lawnet.sg:443/lawnet/web/lawnet/free-resources?p_p_id=freeresources_WAR_lawnet3baseportlet&p_p_lifecycle=0&p_p_state=normal&p_p_mode=view&p_p_col_id=column-1&p_p_col_pos=2&p_p_col_count=3&_freeresources_WAR_lawnet3baseportlet_action=subordinate\"}if(d==\"juvenile\"){c=\"https://www.lawnet.sg:443/lawnet/web/lawnet/free-resources?p_p_id=freeresources_WAR_lawnet3baseportlet&p_p_lifecycle=0&p_p_state=normal&p_p_mode=view&p_p_col_id=column-1&p_p_col_pos=2&p_p_col_count=3&_freeresources_WAR_lawnet3baseportlet_action=juvenile\"}c=c+\"&_freeresources_WAR_lawnet3baseportlet_page=\"+b;document._freeresources_WAR_lawnet3baseportlet_searchpageno.action=c;document._freeresources_WAR_lawnet3baseportlet_searchpageno._freeresources_WAR_lawnet3baseportlet_currentPage.value=b;document._freeresources_WAR_lawnet3baseportlet_searchpageno.submit()}};function numbersonly(f,b,d){var a;var c;if(window.event){a=window.event.keyCode}else{if(b){a=b.which}else{return true}}c=String.fromCharCode(a);if((a==null)||(a==0)||(a==8)||(a==9)||(a==13)||(a==27)){return true}else{if(((\"0123456789\").indexOf(c)>-1)){return true}else{if(d&&(c==\".\")){f.form.elements[d].focus();return false}else{return false}}}};</script> </div> </div> </div> </div> </div> </div> <div class=\"portlet-layout row-fluid\"> <div class=\"portlet-column portlet-column-first\" id=\"column-2\" style=\"width: 72.16%; float: left;\"> <div class=\"portlet-dropzone empty portlet-column-content portlet-column-content-first\" id=\"layout-column_column-2\"></div> </div> <div class=\"portlet-column portlet-column-last\" id=\"column-3\" style=\"width: 24.74%;float: right;\"> <div class=\"portlet-dropzone empty portlet-column-content portlet-column-content-last\" id=\"layout-column_column-3\"></div> </div> </div> </div> <div class=\"alert alert-info\"> Node: l126paap8 </div> <form action=\"#\" id=\"hrefFm\" method=\"post\" name=\"hrefFm\"> <span></span> </form> </div> </div> <div id=\"footerContainer\"> <div id=\"adbanner\"> <!-- <iframe scrolling=\"no\" alt=\"\" border=\"0\" bordercolor=\"#000000\" frameborder=\"0\" height=\"96\" hspace=\"0\" id=\"_48_INSTANCE_XUSeNR9xsMJm_iframe\" name=\"_48_INSTANCE_XUSeNR9xsMJm_iframe\" src=\"\" width=\"100%\"> Your browser does not support inline frames or is currently configured not to display inline frames. Content can be viewed at actual source page: http://catalystbiz.portalcity.com.sg/admanager/show.php?z=23&amp;amp;. </iframe>--> </div> <div class=\"yui3-skin-sam\"> <div id=\"modal\"></div> </div> <div id=\"footer\" style=\"text-align: left;\"> <p class=\"copyright\"> Copyright © <script type=\"text/javascript\">var d=new Date();document.write(d.getFullYear());</script> LawNet, a service provided by<br/>the Singapore Academy of Law. All rights reserved. </p> <p class=\"footerLinks\"> <a href=\"/lawnet/web/lawnet/terms-and-conditions\">Terms &amp; Conditions</a><span>⋅</span> <!-- <a href=\"/lawnet/web/lawnet/disclaimer\">Disclaimer</a><span>⋅</span> --> <!-- No more needed in FSD --> <!-- <a href=\"/lawnet/web/lawnet/feedback\">Feedback</a><span>⋅</span> --> <a href=\"http://www.sal.org.sg/\">Singapore Academy of Law</a> </p> </div><!-- Footer Ends --> </div> <script>(function(a){})(document);</script></div> <script src=\"https://www.lawnet.sg/lawnet3-base-portlet/js/free-resources/main.js?browserId=other&amp;minifierType=js&amp;languageId=en_US&amp;b=6201&amp;t=1620576190000\" type=\"text/javascript\"></script> <script type=\"text/javascript\">Liferay.Util.addInputFocus();</script> <script type=\"text/javascript\">$(document).ready(function(){$(\".sign-in-form\").hide();$(\".portlet-login\").hide();var b=$(\".sign-in-form .alert-error\");if(b.size()>0){var a=$(\".sign-in-form .alert-error\").html();$(\"#_portalmenu_WAR_lawnet3portalportlet_error-holder\").html(\"<div style='color:red;padding-left: 20px;margin-top:-15px;'>\"+a+\"</div>\");$(\"ul.userLogin p span\").addClass(\"error\")}});Liferay.provide(window,\"sessionTimeout\",function(a){AUI().io.request(\"/lawnet/c/portal/logout\",{method:\"POST\",data:{},cache:false,on:{success:function(b,d,c){},failure:function(b,d,c){}}});AUI().io.request(\"https://www.lawnet.sg:443/lawnet/web/lawnet/free-resources?p_p_id=portalmenu_WAR_lawnet3portalportlet&p_p_lifecycle=1&p_p_state=normal&p_p_mode=view&p_p_col_id=column-1&p_p_col_count=3&_portalmenu_WAR_lawnet3portalportlet_javax.portlet.action=sessionTimeout\",{method:\"GET\",data:{_portalmenu_WAR_lawnet3portalportlet_adhocUserId:a},cache:false,on:{success:function(b,d,c){},failure:function(b,d,c){}}})},[\"aui-base\"]);Liferay.Portlet.onLoad({canEditTitle:false,columnPos:0,isStatic:\"start\",namespacedId:\"p_p_id_portalmenu_WAR_lawnet3portalportlet_\",portletId:\"portalmenu_WAR_lawnet3portalportlet\",refreshURL:\"\\x2flawnet\\x2fc\\x2fportal\\x2frender_portlet\\x3fp_l_id\\x3d10719\\x26p_p_id\\x3dportalmenu_WAR_lawnet3portalportlet\\x26p_p_lifecycle\\x3d0\\x26p_t_lifecycle\\x3d0\\x26p_p_state\\x3dnormal\\x26p_p_mode\\x3dview\\x26p_p_col_id\\x3dcolumn-1\\x26p_p_col_pos\\x3d0\\x26p_p_col_count\\x3d3\\x26p_p_static\\x3d1\\x26p_p_static_start\\x3d1\\x26p_p_isolated\\x3d1\\x26currentURL\\x3d\\x252Flawnet\\x252Fweb\\x252Flawnet\\x252Ffree-resources\\x253Fp_p_id\\x253Dfreeresources_WAR_lawnet3baseportlet\\x2526p_p_lifecycle\\x253D0\\x2526p_p_state\\x253Dnormal\\x2526p_p_mode\\x253Dview\\x2526p_p_col_id\\x253Dcolumn-1\\x2526p_p_col_pos\\x253D2\\x2526p_p_col_count\\x253D3\\x2526_freeresources_WAR_lawnet3baseportlet_action\\x253Dsubordinate\"});Liferay.Portlet.onLoad({canEditTitle:false,columnPos:2,isStatic:\"end\",namespacedId:\"p_p_id_freeresources_WAR_lawnet3baseportlet_\",portletId:\"freeresources_WAR_lawnet3baseportlet\",refreshURL:\"\\x2flawnet\\x2fc\\x2fportal\\x2frender_portlet\\x3fp_l_id\\x3d10719\\x26p_p_id\\x3dfreeresources_WAR_lawnet3baseportlet\\x26p_p_lifecycle\\x3d0\\x26p_t_lifecycle\\x3d0\\x26p_p_state\\x3dnormal\\x26p_p_mode\\x3dview\\x26p_p_col_id\\x3dcolumn-1\\x26p_p_col_pos\\x3d2\\x26p_p_col_count\\x3d3\\x26p_p_isolated\\x3d1\\x26currentURL\\x3d\\x252Flawnet\\x252Fweb\\x252Flawnet\\x252Ffree-resources\\x253Fp_p_id\\x253Dfreeresources_WAR_lawnet3baseportlet\\x2526p_p_lifecycle\\x253D0\\x2526p_p_state\\x253Dnormal\\x2526p_p_mode\\x253Dview\\x2526p_p_col_id\\x253Dcolumn-1\\x2526p_p_col_pos\\x253D2\\x2526p_p_col_count\\x253D3\\x2526_freeresources_WAR_lawnet3baseportlet_action\\x253Dsubordinate\\x26_freeresources_WAR_lawnet3baseportlet_action\\x3dsubordinate\"});window.popupResearchTool=function(a,b,c,d){AUI().ready(function(e){AUI().use(\"aui-dialog\",\"aui-io\",function(f){Liferay.Util.openWindow({dialog:{cache:false,width:c,height:d,modal:true,centered:true,destroyOnClose:true},id:b,uri:a});Liferay.provide(window,\"_researchtoolsutility_WAR_lawnet3researchtoolsportlet_closePopup\",function(h){var g=Liferay.Util.getWindow(h);g.destroy()},[\"aui-base\",\"aui-dialog\",\"aui-dialog-iframe\"])})})};Liferay.Portlet.onLoad({canEditTitle:false,columnPos:1,isStatic:\"start\",namespacedId:\"p_p_id_researchtoolsutility_WAR_lawnet3researchtoolsportlet_\",portletId:\"researchtoolsutility_WAR_lawnet3researchtoolsportlet\",refreshURL:\"\\x2flawnet\\x2fc\\x2fportal\\x2frender_portlet\\x3fp_l_id\\x3d10719\\x26p_p_id\\x3dresearchtoolsutility_WAR_lawnet3researchtoolsportlet\\x26p_p_lifecycle\\x3d0\\x26p_t_lifecycle\\x3d0\\x26p_p_state\\x3dnormal\\x26p_p_mode\\x3dview\\x26p_p_col_id\\x3dcolumn-1\\x26p_p_col_pos\\x3d1\\x26p_p_col_count\\x3d3\\x26p_p_static\\x3d1\\x26p_p_static_start\\x3d1\\x26p_p_isolated\\x3d1\\x26currentURL\\x3d\\x252Flawnet\\x252Fweb\\x252Flawnet\\x252Ffree-resources\\x253Fp_p_id\\x253Dfreeresources_WAR_lawnet3baseportlet\\x2526p_p_lifecycle\\x253D0\\x2526p_p_state\\x253Dnormal\\x2526p_p_mode\\x253Dview\\x2526p_p_col_id\\x253Dcolumn-1\\x2526p_p_col_pos\\x253D2\\x2526p_p_col_count\\x253D3\\x2526_freeresources_WAR_lawnet3baseportlet_action\\x253Dsubordinate\"});AUI().use(\"aui-base\",\"liferay-form\",\"liferay-menu\",\"liferay-notice\",\"liferay-poller\",function(a){(function(){Liferay.Util.addInputType();Liferay.Portlet.ready(function(b,c){Liferay.Util.addInputType(c)});if(a.UA.mobile){Liferay.Util.addInputCancel()}})();(function(){new Liferay.Menu();var b=Liferay.Data.notices;for(var c=1;c<b.length;c++){new Liferay.Notice(b[c])}})();(function(){Liferay.Form.register({id:\"_freeresources_WAR_lawnet3baseportlet_searchpageno\",fieldRules:[]})})()});</script> <script src=\"https://www.lawnet.sg/lawnet3-lawnet-simple-theme/js/main.js?browserId=other&amp;minifierType=js&amp;languageId=en_US&amp;b=6201&amp;t=1619625633000\" type=\"text/javascript\"></script> <script type=\"text/javascript\">jQuery(\".searchOptions p label\").attr(\"style\",\"margin-right: 5px\");jQuery(\".searchOptions input[type=radio]\").attr(\"style\",\"width:10px\");jQuery(\".lawnet-services-portlet .greyBtn\").attr(\"style\",\"display: inline-block; padding: 0px ! important; width: 210px; line-height: 18px; color: #4c89c1\");jQuery(\".lawnet-services-portlet .greyBtn span\").attr(\"style\",\"text-transform:none\");jQuery(\".lawnet-services-portlet .greyBtn span\").text(\" (available from September 2015)\");jQuery(\".lawnet-services-portlet .greyBtn\").attr(\"href\",\"/lawnet/web/lawnet/services?tab=3\");jQuery(\".lawnet-services-portlet .greyBtn\").attr(\"target\",\"_blank\");jQuery(\".alert-info\").last().hide();</script> <script>$(function(){$(\".myLawnetTooltip\").tooltip({position:{my:\"left top+15\",at:\"left bottom\",using:function(a,b){$(this).css(a);$(\"<div>\").addClass(\"arrow\").addClass(b.vertical).addClass(b.horizontal).appendTo(this)}}});$(document).bind(\"touchstart\",function(a){$(\"[id^=ui-tooltip]\").remove()})});</script> </body> </html> "
      ]
     },
     "execution_count": 5,
     "metadata": {},
     "output_type": "execute_result"
    }
   ],
   "source": [
    "state_court"
   ]
  },
  {
   "cell_type": "code",
   "execution_count": null,
   "metadata": {},
   "outputs": [],
   "source": [
    "court_full = pd.read_csv(f'../data/statecourt_compiled.csv')\n",
    "last_entry = court_full.title[0]\n",
    "last_date = court_full.date[0]\n",
    "last_date"
   ]
  },
  {
   "cell_type": "code",
   "execution_count": null,
   "metadata": {},
   "outputs": [],
   "source": [
    "# This code collects the date, name, and links for judgments from the High Court \n",
    "# which are accessible on available on LawNet\n",
    "\n",
    "# List to store results\n",
    "results_list = []\n",
    "\n",
    "# Create variable for the domain\n",
    "domain = \"https://www.lawnet.sg/lawnet/web/lawnet/free-resources?p_p_id=freeresources_WAR_lawnet3baseportlet&p_p_lifecycle=1&p_p_state=normal&p_p_mode=view&p_p_col_id=column-1&p_p_col_pos=2&p_p_col_count=3&_freeresources_WAR_lawnet3baseportlet_action=openContentPage&_freeresources_WAR_lawnet3baseportlet_docId=\"\n",
    "\n",
    "# Get number of pages\n",
    "# Remove all extra strings to get the number\n",
    "page = str(state_court.find_all('li', {'class': 'lastPageActive'}))\n",
    "page = ''.join(filter(str.isdigit, page))\n",
    "# Replace the first \"3\" as it comes from the url\n",
    "last_page = int(page.replace(\"3\",\"\",1))\n",
    "\n",
    "# Create counter for current page\n",
    "current_page = 1\n",
    "# Loop while it is not the last page\n",
    "while current_page <= last_page:\n",
    "    url1 = url+\"&_freeresources_WAR_lawnet3baseportlet_page=\"+str(current_page)\n",
    "    # Establishing the connection to the web page:\n",
    "    response1 = requests.get(url1)\n",
    "    # Pull the HTML string out of requests and convert it to a Python string.\n",
    "    html1 = response1.text\n",
    "    state_court1 = BeautifulSoup(html1, 'lxml')\n",
    "    # Get the relevant elements (date, name, link)\n",
    "    search_results = state_court1.find_all('ul', {'class': 'searchResultsHolder'})\n",
    "    for li in search_results:\n",
    "        li_list = li.find_all('li')\n",
    "        li_list.pop(0)\n",
    "        for element in li_list:\n",
    "            # start a dictionary to store this item's data\n",
    "            result = {}\n",
    "            # get the date\n",
    "            date = element.find('p', {'class': 'resultsDate'}).text\n",
    "            result['date'] = date\n",
    "            # get the title and full link/url\n",
    "            a_href = element.find('a')\n",
    "            text = a_href.text\n",
    "            if text == last_entry and date == last_date:\n",
    "                \n",
    "            # only store \"full\" rows of data\n",
    "            elif a_href:\n",
    "                result['title'] = a_href.text.strip()   # element text\n",
    "                link = str(a_href['href']) # href link\n",
    "                link = link.replace(\"javascript:viewContent\",\"\")\n",
    "                link = link.strip(\"')(\")\n",
    "                result['link'] = domain+link\n",
    "            if len(result) == 3:\n",
    "                results_list.append(result)\n",
    "\n",
    "               \n",
    "    # Raise page counter\n",
    "    current_page += 1\n",
    "state_court_df = pd.DataFrame(results_list)\n"
   ]
  },
  {
   "cell_type": "code",
   "execution_count": null,
   "metadata": {},
   "outputs": [],
   "source": [
    "# Narrow to only Criminal cases\n",
    "state_court_df = state_court_df[state_court_df['title'].str.contains(\"Public Prosecutor\")]\n"
   ]
  },
  {
   "cell_type": "markdown",
   "metadata": {},
   "source": [
    "<a id='step1'></a>\n",
    "### 1) Fetch the Supreme Court content by URL.\n",
    "\n"
   ]
  },
  {
   "cell_type": "code",
   "execution_count": null,
   "metadata": {},
   "outputs": [],
   "source": [
    "# Target Supreme Court page:\n",
    "url = \"https://www.lawnet.sg/lawnet/web/lawnet/free-resources?p_p_id=freeresources_WAR_lawnet3baseportlet&p_p_lifecycle=0&p_p_state=normal&p_p_mode=view&p_p_col_id=column-1&p_p_col_pos=2&p_p_col_count=3&_freeresources_WAR_lawnet3baseportlet_action=supreme\"\n",
    "\n",
    "# Establishing the connection to the web page:\n",
    "response = requests.get(url)\n",
    "\n",
    "# You can use status codes to understand how the target server responds to your request.\n",
    "# Ex., 200 = OK, 400 = Bad Request, 403 = Forbidden, 404 = Not Found.\n",
    "print(response.status_code)\n",
    "\n",
    "# Pull the HTML string out of requests and convert it to a Python string.\n",
    "html = response.text"
   ]
  },
  {
   "cell_type": "markdown",
   "metadata": {},
   "source": [
    "<a id='step2'></a>\n",
    "### 2) Parse the HTML document with Beautiful Soup.\n",
    "\n",
    "This step allows us to access the elements of the document by XPath expressions."
   ]
  },
  {
   "cell_type": "code",
   "execution_count": null,
   "metadata": {},
   "outputs": [],
   "source": [
    "supreme_court = BeautifulSoup(html, 'lxml')"
   ]
  },
  {
   "cell_type": "code",
   "execution_count": null,
   "metadata": {},
   "outputs": [],
   "source": [
    "# This code collects the date, name, and links for judgments from the High Court \n",
    "# which are accessible on available on LawNet\n",
    "\n",
    "# List to store results\n",
    "results_list = []\n",
    "\n",
    "# Create variable for the domain\n",
    "domain = \"https://www.lawnet.sg/lawnet/web/lawnet/free-resources?p_p_id=freeresources_WAR_lawnet3baseportlet&p_p_lifecycle=1&p_p_state=normal&p_p_mode=view&p_p_col_id=column-1&p_p_col_pos=2&p_p_col_count=3&_freeresources_WAR_lawnet3baseportlet_action=openContentPage&_freeresources_WAR_lawnet3baseportlet_docId=\"\n",
    "\n",
    "# Get number of pages\n",
    "# Remove all extra strings to get the number\n",
    "page = str(supreme_court.find_all('li', {'class': 'lastPageActive'}))\n",
    "page = ''.join(filter(str.isdigit, page))\n",
    "# Replace the first \"3\" as it comes from the url\n",
    "last_page = int(page.replace(\"3\",\"\",1))\n",
    "\n",
    "# Create counter for current page\n",
    "current_page = 1\n",
    "# Loop while it is not the last page\n",
    "while current_page <= last_page:\n",
    "    url1 = url+\"&_freeresources_WAR_lawnet3baseportlet_page=\"+str(current_page)\n",
    "    # Establishing the connection to the web page:\n",
    "    response1 = requests.get(url1)\n",
    "    # Pull the HTML string out of requests and convert it to a Python string.\n",
    "    html1 = response1.text\n",
    "    supreme_court1 = BeautifulSoup(html1, 'lxml')\n",
    "    # Get the relevant elements (date, name, link)\n",
    "    search_results = supreme_court1.find_all('ul', {'class': 'searchResultsHolder'})\n",
    "    for li in search_results:\n",
    "        li_list = li.find_all('li')\n",
    "        for element in li_list:\n",
    "            # start a dictionary to store this item's data\n",
    "            result = {}\n",
    "            # get the date\n",
    "            result['date'] = element.find('p', {'class': 'resultsDate'}).text\n",
    "            # get the title and full link/url\n",
    "            a_href = element.find('a')\n",
    "            if a_href:\n",
    "                result['title'] = a_href.text   # element text\n",
    "                link = str(a_href['href']) # href link\n",
    "                link = link.replace(\"javascript:viewContent\",\"\")\n",
    "                link = link.strip(\"')(\")\n",
    "                result['link'] = domain+link\n",
    "            # only store \"full\" rows of data\n",
    "                if len(result) == 3:\n",
    "                    results_list.append(result)\n",
    "    # Raise page counter\n",
    "    current_page += 1\n",
    "supreme_court_df = pd.DataFrame(results_list)"
   ]
  },
  {
   "cell_type": "code",
   "execution_count": null,
   "metadata": {},
   "outputs": [],
   "source": [
    "# Narrow to only Criminal cases\n",
    "supreme_court_df = supreme_court_df[supreme_court_df['title'].str.contains(\"Public Prosecutor\")]"
   ]
  },
  {
   "cell_type": "code",
   "execution_count": null,
   "metadata": {},
   "outputs": [],
   "source": [
    "# Load compiled databases\n",
    "state_court_full = pd.read_csv('../data/statecourt_compiled.csv')\n",
    "supreme_court_full = pd.read_csv('../data/supremecourt_compiled.csv')\n"
   ]
  },
  {
   "cell_type": "code",
   "execution_count": null,
   "metadata": {},
   "outputs": [],
   "source": [
    "# Compare with compiled databases and only save new entries\n",
    "state_court_df = state_court_df[~state_court_df['link'].isin(state_court_full['link'])]\n",
    "supreme_court_df = supreme_court_df[~supreme_court_df['link'].isin(supreme_court_full['link'])]\n",
    "\n",
    "state_court_full = state_court_df.merge(state_court_full, how='outer')\n",
    "supreme_court_full = supreme_court_df.merge(supreme_court_full, how='outer')"
   ]
  },
  {
   "cell_type": "code",
   "execution_count": null,
   "metadata": {},
   "outputs": [],
   "source": [
    "# Export to .csv\n",
    "state_court_df.to_csv(path_or_buf=f'../data/statecourt.csv', index=False)\n",
    "supreme_court_df.to_csv(path_or_buf=f'../data/supremecourt.csv', index=False)\n",
    "\n",
    "state_court_full.to_csv(path_or_buf=f'../data/statecourt_compiled.csv', index=False)\n",
    "supreme_court_full.to_csv(path_or_buf=f'../data/supremecourt_compiled.csv', index=False)"
   ]
  },
  {
   "cell_type": "code",
   "execution_count": null,
   "metadata": {},
   "outputs": [],
   "source": [
    "state_court_df.info()"
   ]
  },
  {
   "cell_type": "markdown",
   "metadata": {},
   "source": [
    "---\n",
    "<a id='follow-links'></a>\n",
    "### Following Links for More Results\n",
    "\n",
    "One hundred results is pretty good, but what if we want more? We need to follow the \"next\" links and find new pages to grab. Using the **`parse()`** method of our spider class, we need to return another type of object.\n",
    "\n",
    "See [Stack Overflow](https://stackoverflow.com/questions/30152261/make-scrapy-follow-links-and-collect-data) for details!\n"
   ]
  },
  {
   "cell_type": "code",
   "execution_count": null,
   "metadata": {},
   "outputs": [],
   "source": []
  }
 ],
 "metadata": {
  "anaconda-cloud": {},
  "kernelspec": {
   "display_name": "Python 3",
   "language": "python",
   "name": "python3"
  },
  "language_info": {
   "codemirror_mode": {
    "name": "ipython",
    "version": 3
   },
   "file_extension": ".py",
   "mimetype": "text/x-python",
   "name": "python",
   "nbconvert_exporter": "python",
   "pygments_lexer": "ipython3",
   "version": "3.8.5"
  }
 },
 "nbformat": 4,
 "nbformat_minor": 1
}
