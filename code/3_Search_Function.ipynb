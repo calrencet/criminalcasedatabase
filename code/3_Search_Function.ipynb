{
 "cells": [
  {
   "cell_type": "markdown",
   "metadata": {},
   "source": [
    "# Capstone Project: Criminal Case Database"
   ]
  },
  {
   "cell_type": "markdown",
   "metadata": {},
   "source": [
    "### Overall Contents:\n",
    "- Background\n",
    "- Webscraping Lawnet\n",
    "- Webscraping Singapore Statutes\n",
    "- Natural Language Pocessing\n",
    "- [Search Function](5.-Search-Function) **(In this notebook)**\n",
    "- Flask and Google App Engine\n",
    "- Conclusion and Recommendation"
   ]
  },
  {
   "cell_type": "markdown",
   "metadata": {},
   "source": [
    "## Datasets\n",
    "\n",
    "For the search function, I will use the database which I created previously. \n",
    "\n",
    "The datasets that I will use are as follows:- \n",
    "\n",
    "* database.csv\n"
   ]
  },
  {
   "cell_type": "markdown",
   "metadata": {},
   "source": [
    "## 5. Search Function  \n",
    "\n",
    "The goal of the project is to create a database where users can search for and be shown judgments based on different criteria such as statutes, crimes, or case names.  \n",
    "\n",
    "Hence it will be necessary to write some functions to allow this searching of the database.  \n",
    "\n",
    "Regular expressions such as those used in the NLP system will be used as rules to classify the searches to appropriately match within the different columns of the database."
   ]
  },
  {
   "cell_type": "markdown",
   "metadata": {},
   "source": [
    "### 5.1 Libraries Import  \n",
    "\n",
    "I will be using `pandas` to explore the data, `re` for regular expressions, and `matplotlib` for plotting."
   ]
  },
  {
   "cell_type": "code",
   "execution_count": 1,
   "metadata": {},
   "outputs": [],
   "source": [
    "# Imports:\n",
    "import pandas as pd\n",
    "import re\n",
    "import matplotlib.pyplot as plt"
   ]
  },
  {
   "cell_type": "code",
   "execution_count": 2,
   "metadata": {},
   "outputs": [],
   "source": [
    "# Increase the max column width\n",
    "pd.set_option('display.max_colwidth', 300)"
   ]
  },
  {
   "cell_type": "markdown",
   "metadata": {},
   "source": [
    "### 5.2 Data Import"
   ]
  },
  {
   "cell_type": "code",
   "execution_count": 3,
   "metadata": {},
   "outputs": [],
   "source": [
    "# Import database of judgments which were processed in the previous notebook.\n",
    "database = pd.read_csv('../data/database.csv')"
   ]
  },
  {
   "cell_type": "code",
   "execution_count": 4,
   "metadata": {},
   "outputs": [
    {
     "name": "stdout",
     "output_type": "stream",
     "text": [
      "<class 'pandas.core.frame.DataFrame'>\n",
      "RangeIndex: 127 entries, 0 to 126\n",
      "Data columns (total 10 columns):\n",
      " #   Column                 Non-Null Count  Dtype \n",
      "---  ------                 --------------  ----- \n",
      " 0   case_name              127 non-null    object\n",
      " 1   tribunal/court         127 non-null    object\n",
      " 2   decision_date          127 non-null    object\n",
      " 3   possible_titles        126 non-null    object\n",
      " 4   possible_statutes      126 non-null    object\n",
      " 5   citations              122 non-null    object\n",
      " 6   mitigation_discussed   127 non-null    int64 \n",
      " 7   aggravation_discussed  127 non-null    int64 \n",
      " 8   court_tag              127 non-null    object\n",
      " 9   link                   127 non-null    object\n",
      "dtypes: int64(2), object(8)\n",
      "memory usage: 10.0+ KB\n"
     ]
    }
   ],
   "source": [
    "database.info()"
   ]
  },
  {
   "cell_type": "markdown",
   "metadata": {},
   "source": [
    "### 5.3 Search term conversion  \n",
    "\n",
    "The first function will convert the `input` string into a standard format to ensure that the search runs smoothly.\n",
    "\n",
    "This has to first identify the type of search to perform changes to the `input_string` to ensure that it is in an acceptable format.  \n",
    "\n",
    "It will lower case all input strings and if there is a section number, it will only return the digits with the statute name."
   ]
  },
  {
   "cell_type": "code",
   "execution_count": 5,
   "metadata": {},
   "outputs": [],
   "source": [
    "def classify_search(input_string):\n",
    "    \"\"\"\n",
    "    Input: An `input_string` as dtype string\n",
    "    Output: The `input_string` in lowercase, with `section` or `s` removed from the section portion if available.\n",
    "    \"\"\"\n",
    "    # Check if `input_string` contains `Act` or `Code`\n",
    "    if re.search('[Aa]ct|[Cc]ode', input_string):\n",
    "        try:\n",
    "            # Lowercase the input_string\n",
    "            section = re.search('(([Ss](ection|)(s|) |)\\d+)', input_string.lower()).group(0).strip()\n",
    "            \n",
    "            # Remove the section or s portion and return only the digit\n",
    "            section_num = re.sub('([Ss](ection|)(s|) )', \"\", section)\n",
    "        except:\n",
    "            # If no section number found, just leave it blank\n",
    "            section_num = \"\"\n",
    "            \n",
    "        # Lowercase the statute name\n",
    "        statute = re.search(r'((([A-Za-z]*)|(of| )*)*([Aa]ct|[Cc]ode))', input_string.lower()).group(0).strip()\n",
    "        \n",
    "        # Combine section number and statute name\n",
    "        section_statute = section_num + \" \" + str.lower(statute)\n",
    "        \n",
    "        # Return section number and statute name combined\n",
    "        return section_statute\n",
    "    \n",
    "    # If input_string contains `v` within spaces, extract and lowercase the case name.\n",
    "    elif re.search(' [Vv] ', input_string):\n",
    "        temp_case_name = re.search('(([A-Za-z]*)(([A-Za-z]*)|(s\\/o| |bte|bin|and|another|anr|binti|de|the|for|other|matters))* v (([A-Za-z]*)|(s\\/o| |bte|bin|and|another|anr|binti|de|the|for|other|matters))*(?=|))', input_string.lower()).group(0).strip()\n",
    "        case_name = str.lower(temp_case_name)\n",
    "        \n",
    "        # Return the case name\n",
    "        return case_name\n",
    "    \n",
    "    # If other input_string, just lowercase it\n",
    "    else:\n",
    "        return str.lower(input_string)"
   ]
  },
  {
   "cell_type": "markdown",
   "metadata": {},
   "source": [
    "### 5.4 Search algorithm\n",
    "\n",
    "The search algorithm will first classify the `input_string` accord to the patterns found within to identify which column to perform the search in.  \n",
    "\n",
    "Next, it will filter to all rows which contain the `input_string` in that column.  \n",
    "\n",
    "Finally, it returns a resulting dataframe that contains the important columns. The court_tag is not important as that is for the NLP system to run smoothly."
   ]
  },
  {
   "cell_type": "code",
   "execution_count": 9,
   "metadata": {},
   "outputs": [],
   "source": [
    "def search_search(input_string):\n",
    "    \"\"\"\n",
    "    Input: An `input_string` as dtype string\n",
    "    Output: A dataframe of rows from the database which contain the `input_string` in the relevant column.\n",
    "    \"\"\"\n",
    "    # Call the classify_search function to convert the `input_string`\n",
    "    search_string = classify_search(input_string)\n",
    "    \n",
    "    # Load the database\n",
    "    database = pd.read_csv('../data/database.csv')\n",
    "    \n",
    "    # Check if the input_string contains `act` or `code` which classifies it as a statute search and filter the database accordingly\n",
    "    if re.search('act|code', search_string):\n",
    "        temp = database.copy().dropna()\n",
    "        temp1 = temp['possible_statutes'].apply(lambda x: x.lower())\n",
    "        result = database.loc[list(temp[temp1.str.contains(search_string)].index)]\n",
    "        return result[['tribunal/court','case_name','decision_date','aggravation_discussed','mitigation_discussed','citations','possible_titles','possible_statutes','link']]\n",
    "    \n",
    "    # Check if the input_string contains ` v ` which classifies it as a case_name search and filter the database accordingly\n",
    "    elif re.search(' v ', search_string):\n",
    "        temp = database.copy()\n",
    "        temp1 = temp['case_name'].apply(lambda x: x.lower())\n",
    "        result = database.loc[list(temp[temp1.str.contains(search_string)].index)]\n",
    "        return result[['tribunal/court','case_name','decision_date','aggravation_discussed','mitigation_discussed','citations','possible_titles','possible_statutes','link']]\n",
    "    \n",
    "    # If it doesn't fit in the above, try searching in all the columns\n",
    "    else:\n",
    "        # First check if the input_string is matched in `case_name`\n",
    "        temp = database.copy()\n",
    "        temp1 = temp['case_name'].apply(lambda x: x.lower())\n",
    "        result = database.loc[list(temp[temp1.str.contains(search_string)].index)]\n",
    "        \n",
    "        # If no results in `case_name`, search within `possible_offences`\n",
    "        if len(result) == 0:\n",
    "            temp = database.copy().dropna()\n",
    "            temp2 = temp['possible_titles'].apply(lambda x: x.lower())\n",
    "            result = database.loc[list(temp[temp2.str.contains(search_string)].index)]\n",
    "            \n",
    "            # If no results within `possible offences`, search within `possible_statutes`\n",
    "            if len(result) == 0:\n",
    "                temp3 = temp['possible_statutes'].apply(lambda x: x.lower())\n",
    "                result = database.loc[list(temp[temp3.str.contains(search_string)].index)]\n",
    "                \n",
    "                # If still no results found, return a `no results found` message.\n",
    "                if len(result) == 0:\n",
    "                    print('''No results found.\n",
    "                    Please ensure your search is in the following format:\n",
    "                    Case Name (e.g. John v Smith),\n",
    "                    Part of offence name (e.g. Forgery - try to avoid), or\n",
    "                    Statute name (e.g. Section 33 Criminal Procedure Code)''')\n",
    "                else:\n",
    "                    return result[['tribunal/court','case_name','decision_date','aggravation_discussed','mitigation_discussed','citations','possible_titles','possible_statutes','link']]\n",
    "            else:\n",
    "                return result[['tribunal/court','case_name','decision_date','aggravation_discussed','mitigation_discussed','citations','possible_titles','possible_statutes','link']]\n",
    "        else:\n",
    "            return result[['tribunal/court','case_name','decision_date','aggravation_discussed','mitigation_discussed','citations','possible_titles','possible_statutes','link']]"
   ]
  },
  {
   "cell_type": "markdown",
   "metadata": {},
   "source": [
    "### 5.5 Search statistics  \n",
    "\n",
    "The final function created is to return the relevant statistics from the filtered results of the search.  \n",
    "\n",
    "The statistics which I have come up with are:  \n",
    "- `mitigation_rate`: The mean of `mitigation_discussed` for the search  \n",
    "- `aggravated_rate`: The mean of `aggravation_discussed` for the search  \n",
    "- `top cited cases`: The top 10 cited cases for this search.  \n",
    "\n",
    "For the `mitigation_rate` and `aggravated_rate`, this is simply done by finding the means of these two columns as they are binary.  \n",
    "\n",
    "For the `top cited cases`, this is achieved by splitting the values in the `citations` column for the search results and dummifying the resulting values. This results in columns where the the sum of each case cited can be found, to find out which are the top cited cases.  \n",
    "\n",
    "This is then used to plot a horizontal bar plot to visualize the `top cited cases`."
   ]
  },
  {
   "cell_type": "code",
   "execution_count": 10,
   "metadata": {},
   "outputs": [],
   "source": [
    "def search_statistics(input_string):\n",
    "    \"\"\"\n",
    "    Input: `input_string` as dtype string.\n",
    "    Output: `mitigation_rate` as a percentage, `aggravated_rate` as a percentage, `top cited cases`,\n",
    "    `results` dataframe containing filtered results of the search, plot of `top cited cases`\n",
    "    \"\"\"\n",
    "    # Create variable for the results of the search_search function\n",
    "    results = search_search(input_string)\n",
    "    results = results.reset_index(drop=True)\n",
    "    \n",
    "    # Calculate mean of `mitigation_discussed` to find `mitigation_rate`\n",
    "    mitigation_rate = results.mitigation_discussed.mean()\n",
    "    \n",
    "    # Calculate mean of `aggravation_discussed` to find `aggravated_rate`\n",
    "    aggravated_rate = results.aggravation_discussed.mean()\n",
    "    \n",
    "    # Create citations dataframe\n",
    "    citations = pd.DataFrame(results['citations'])\n",
    "    \n",
    "    # Split the values of the `citations` column\n",
    "    citations['citations'] = citations['citations'].apply(lambda x: x.split(','))\n",
    "    \n",
    "    # Dummify the columns of the split results.\n",
    "    citations2 = pd.DataFrame(pd.get_dummies(citations['citations'].apply(pd.Series).stack()).sum(level=0))\n",
    "    \n",
    "    # Print the statistics\n",
    "    print(f'''Mitigating factors were discussed in {mitigation_rate*100}% of the cases for this search.\n",
    "Aggravating factors were discussed in {aggravated_rate*100}% of the cases for this search.\n",
    "\n",
    "The top cited cases for this search are: \n",
    "{citations2.sum().sort_values(ascending=False).head(10)}''')\n",
    "    \n",
    "    # Create a plot for the `top cited cases`\n",
    "    plt.figure(figsize = (10,8))\n",
    "    citations2.sum().sort_values(ascending=False).head(10)[::-1].plot(kind='barh')\n",
    "    plt.title('Most cited cases in this search')\n",
    "    plt.xlabel('Frequency (expressed as decimal)')\n",
    "    \n",
    "    # Save the plot\n",
    "    plt.savefig('../images/search.png', bbox_inches='tight')\n",
    "\n",
    "    # Return results\n",
    "    return results"
   ]
  },
  {
   "cell_type": "markdown",
   "metadata": {},
   "source": [
    "### 5.6 Testing the functions  \n",
    "\n",
    "I will test the functions above on a sample input string \"FORGERY\""
   ]
  },
  {
   "cell_type": "code",
   "execution_count": 11,
   "metadata": {
    "scrolled": false
   },
   "outputs": [
    {
     "name": "stdout",
     "output_type": "stream",
     "text": [
      "Mitigating factors were discussed in 80.0% of the cases for this search.\n",
      "Aggravating factors were discussed in 60.0% of the cases for this search.\n",
      "\n",
      "The top cited cases for this search are: \n",
      "Xia Qin Lai v Public Prosecutor                1\n",
      "PP v Siti Safiah Binte Mohamed Alifah          1\n",
      "Lim Chu Bok v Public Prosecutor                1\n",
      "Lim Ek Kian v Public Prosecutor                1\n",
      "Mohamed Shouffee bin Adam v PP                 1\n",
      "PP v Agnes Tan Mei Qing                        1\n",
      "PP v Fernando Payagala Waduge Malitha Kumar    1\n",
      "PP v Gan Chai Bee Anne                         1\n",
      "PP v Lee Chee Siang                            1\n",
      "PP v Malinda Wongpipatkasem                    1\n",
      "dtype: int64\n"
     ]
    },
    {
     "data": {
      "text/html": [
       "<div>\n",
       "<style scoped>\n",
       "    .dataframe tbody tr th:only-of-type {\n",
       "        vertical-align: middle;\n",
       "    }\n",
       "\n",
       "    .dataframe tbody tr th {\n",
       "        vertical-align: top;\n",
       "    }\n",
       "\n",
       "    .dataframe thead th {\n",
       "        text-align: right;\n",
       "    }\n",
       "</style>\n",
       "<table border=\"1\" class=\"dataframe\">\n",
       "  <thead>\n",
       "    <tr style=\"text-align: right;\">\n",
       "      <th></th>\n",
       "      <th>tribunal/court</th>\n",
       "      <th>case_name</th>\n",
       "      <th>decision_date</th>\n",
       "      <th>aggravation_discussed</th>\n",
       "      <th>mitigation_discussed</th>\n",
       "      <th>citations</th>\n",
       "      <th>possible_titles</th>\n",
       "      <th>possible_statutes</th>\n",
       "      <th>link</th>\n",
       "    </tr>\n",
       "  </thead>\n",
       "  <tbody>\n",
       "    <tr>\n",
       "      <th>0</th>\n",
       "      <td>Court of Appeal</td>\n",
       "      <td>Tang Keng Lai v Public Prosecutor [2021] SGCA 52</td>\n",
       "      <td>11 May 2021</td>\n",
       "      <td>0</td>\n",
       "      <td>0</td>\n",
       "      <td>Public Prosecutor v Tang Keng Lai and another,Public Prosecutor v GCK and another,Public Prosecutor v Teo Chu Ha,Huang Liping v Public Prosecutor</td>\n",
       "      <td>Criminal breach of trust by public servant, or by banker, merchant, agent, director, officer, partner, key executive or fiduciary,Robbery when armed or with attempt to cause death or grievous hurt,Assault or criminal force in attempting wrongfully to confine a person,Not in database,Punishment f...</td>\n",
       "      <td>397 Criminal Procedure Code,397 Penal Code,409 Criminal Procedure Code,409 Penal Code,357 Criminal Procedure Code,357 Penal Code,465 Criminal Procedure Code,465 Penal Code,471 Criminal Procedure Code,471 Penal Code,109 Criminal Procedure Code,109 Penal Code</td>\n",
       "      <td>https://www.lawnet.sg/lawnet/web/lawnet/free-resources?p_p_id=freeresources_WAR_lawnet3baseportlet&amp;p_p_lifecycle=1&amp;p_p_state=normal&amp;p_p_mode=view&amp;p_p_col_id=column-1&amp;p_p_col_pos=2&amp;p_p_col_count=3&amp;_freeresources_WAR_lawnet3baseportlet_action=openContentPage&amp;_freeresources_WAR_lawnet3baseportlet_d...</td>\n",
       "    </tr>\n",
       "    <tr>\n",
       "      <th>1</th>\n",
       "      <td>District Court</td>\n",
       "      <td>Public Prosecutor v Yong Wei Onn, Louis Paul [2021] SGDC 33</td>\n",
       "      <td>17 February 2021</td>\n",
       "      <td>1</td>\n",
       "      <td>1</td>\n",
       "      <td>PP v Fernando Payagala Waduge Malitha Kumar,Lim Ek Kian v Public Prosecutor,Public Prosecutor v Lee Chee Siang,Lim Chu Bok v Public Prosecutor,Public Prosecutor v Mazlan bin Duaji,Public Prosecutor v Kwa Tian Hwa,PP v Lee Chee Siang</td>\n",
       "      <td>Forgery for the purpose of cheating</td>\n",
       "      <td>468 Penal Code</td>\n",
       "      <td>https://www.lawnet.sg/lawnet/web/lawnet/free-resources?p_p_id=freeresources_WAR_lawnet3baseportlet&amp;p_p_lifecycle=1&amp;p_p_state=normal&amp;p_p_mode=view&amp;p_p_col_id=column-1&amp;p_p_col_pos=2&amp;p_p_col_count=3&amp;_freeresources_WAR_lawnet3baseportlet_action=openContentPage&amp;_freeresources_WAR_lawnet3baseportlet_d...</td>\n",
       "    </tr>\n",
       "    <tr>\n",
       "      <th>2</th>\n",
       "      <td>District Court</td>\n",
       "      <td>Public Prosecutor v Ang Wee Hong [2021] SGDC 60</td>\n",
       "      <td>26 March 2021</td>\n",
       "      <td>1</td>\n",
       "      <td>1</td>\n",
       "      <td>PP v Sani bin Mohamed Salim,PP v Martin Raymond Tua Pardede,PP v Agnes Tan Mei Qing,PP v Malinda Wongpipatkasem,PP v Noriza Binte Aziz,PP v Siti Safiah Binte Mohamed Alifah,Public Prosecutor v Chen Young Ja,PP v Gan Chai Bee Anne,Soong Hee Sin v PP,Mohamed Shouffee bin Adam v PP</td>\n",
       "      <td>Theft by clerk or servant of property in possession of master,Theft in dwelling-house, etc.,Punishment for theft,Cheating and dishonestly inducing a delivery of property,Forgery of a valuable security or will</td>\n",
       "      <td>379 Penal Code,381 Penal Code,467 Penal Code,420 Penal Code,380 Penal Code</td>\n",
       "      <td>https://www.lawnet.sg/lawnet/web/lawnet/free-resources?p_p_id=freeresources_WAR_lawnet3baseportlet&amp;p_p_lifecycle=1&amp;p_p_state=normal&amp;p_p_mode=view&amp;p_p_col_id=column-1&amp;p_p_col_pos=2&amp;p_p_col_count=3&amp;_freeresources_WAR_lawnet3baseportlet_action=openContentPage&amp;_freeresources_WAR_lawnet3baseportlet_d...</td>\n",
       "    </tr>\n",
       "    <tr>\n",
       "      <th>3</th>\n",
       "      <td>District Court</td>\n",
       "      <td>Public Prosecutor v M Akbar Bin Mohamed Ibrahim [2021] SGDC 61</td>\n",
       "      <td>29 March 2021</td>\n",
       "      <td>0</td>\n",
       "      <td>1</td>\n",
       "      <td>PP v Osi Maria Elenora Protacio,PP v Ong Yew Hien</td>\n",
       "      <td>Kidnapping,Punishment of criminal breach of trust,Not in database,Punishment for forgery,Cheating and dishonestly inducing a delivery of property</td>\n",
       "      <td>406 Criminal Procedure Code,406 Penal Code,406 Bankruptcy Act,14 Criminal Procedure Code,14 Penal Code,14 Bankruptcy Act,465 Criminal Procedure Code,465 Penal Code,465 Bankruptcy Act,420 Criminal Procedure Code,420 Penal Code,420 Bankruptcy Act,359 Criminal Procedure Code,359 Penal Code,359 Bank...</td>\n",
       "      <td>https://www.lawnet.sg/lawnet/web/lawnet/free-resources?p_p_id=freeresources_WAR_lawnet3baseportlet&amp;p_p_lifecycle=1&amp;p_p_state=normal&amp;p_p_mode=view&amp;p_p_col_id=column-1&amp;p_p_col_pos=2&amp;p_p_col_count=3&amp;_freeresources_WAR_lawnet3baseportlet_action=openContentPage&amp;_freeresources_WAR_lawnet3baseportlet_d...</td>\n",
       "    </tr>\n",
       "    <tr>\n",
       "      <th>4</th>\n",
       "      <td>District Court</td>\n",
       "      <td>Public Prosecutor v Lee Xiu Qi [2021] SGDC 77</td>\n",
       "      <td>18 May 2021</td>\n",
       "      <td>1</td>\n",
       "      <td>1</td>\n",
       "      <td>Tay Boon Hui Freddy v Public Prosecutor,Xia Qin Lai v Public Prosecutor,Public Prosecutor v Younis Adnan Mohammed,Public Prosecutor v Ho Wei Chuan,Public Prosecutor v Ang Wee Tat Vida,Tan Kim Huat Jerry v Public Prosecutor,Public Prosecutor v Ang Chee Tiong,Public Prosecutor v Renuga Devi</td>\n",
       "      <td>Punishment for forgery</td>\n",
       "      <td>465 Penal Code</td>\n",
       "      <td>https://www.lawnet.sg/lawnet/web/lawnet/free-resources?p_p_id=freeresources_WAR_lawnet3baseportlet&amp;p_p_lifecycle=1&amp;p_p_state=normal&amp;p_p_mode=view&amp;p_p_col_id=column-1&amp;p_p_col_pos=2&amp;p_p_col_count=3&amp;_freeresources_WAR_lawnet3baseportlet_action=openContentPage&amp;_freeresources_WAR_lawnet3baseportlet_d...</td>\n",
       "    </tr>\n",
       "  </tbody>\n",
       "</table>\n",
       "</div>"
      ],
      "text/plain": [
       "    tribunal/court  \\\n",
       "0  Court of Appeal   \n",
       "1   District Court   \n",
       "2   District Court   \n",
       "3   District Court   \n",
       "4   District Court   \n",
       "\n",
       "                                                        case_name  \\\n",
       "0                Tang Keng Lai v Public Prosecutor [2021] SGCA 52   \n",
       "1     Public Prosecutor v Yong Wei Onn, Louis Paul [2021] SGDC 33   \n",
       "2                 Public Prosecutor v Ang Wee Hong [2021] SGDC 60   \n",
       "3  Public Prosecutor v M Akbar Bin Mohamed Ibrahim [2021] SGDC 61   \n",
       "4                   Public Prosecutor v Lee Xiu Qi [2021] SGDC 77   \n",
       "\n",
       "      decision_date  aggravation_discussed  mitigation_discussed  \\\n",
       "0       11 May 2021                      0                     0   \n",
       "1  17 February 2021                      1                     1   \n",
       "2     26 March 2021                      1                     1   \n",
       "3     29 March 2021                      0                     1   \n",
       "4       18 May 2021                      1                     1   \n",
       "\n",
       "                                                                                                                                                                                                                                                                                           citations  \\\n",
       "0                                                                                                                                                  Public Prosecutor v Tang Keng Lai and another,Public Prosecutor v GCK and another,Public Prosecutor v Teo Chu Ha,Huang Liping v Public Prosecutor   \n",
       "1                                                           PP v Fernando Payagala Waduge Malitha Kumar,Lim Ek Kian v Public Prosecutor,Public Prosecutor v Lee Chee Siang,Lim Chu Bok v Public Prosecutor,Public Prosecutor v Mazlan bin Duaji,Public Prosecutor v Kwa Tian Hwa,PP v Lee Chee Siang   \n",
       "2            PP v Sani bin Mohamed Salim,PP v Martin Raymond Tua Pardede,PP v Agnes Tan Mei Qing,PP v Malinda Wongpipatkasem,PP v Noriza Binte Aziz,PP v Siti Safiah Binte Mohamed Alifah,Public Prosecutor v Chen Young Ja,PP v Gan Chai Bee Anne,Soong Hee Sin v PP,Mohamed Shouffee bin Adam v PP   \n",
       "3                                                                                                                                                                                                                                                  PP v Osi Maria Elenora Protacio,PP v Ong Yew Hien   \n",
       "4  Tay Boon Hui Freddy v Public Prosecutor,Xia Qin Lai v Public Prosecutor,Public Prosecutor v Younis Adnan Mohammed,Public Prosecutor v Ho Wei Chuan,Public Prosecutor v Ang Wee Tat Vida,Tan Kim Huat Jerry v Public Prosecutor,Public Prosecutor v Ang Chee Tiong,Public Prosecutor v Renuga Devi   \n",
       "\n",
       "                                                                                                                                                                                                                                                                                               possible_titles  \\\n",
       "0  Criminal breach of trust by public servant, or by banker, merchant, agent, director, officer, partner, key executive or fiduciary,Robbery when armed or with attempt to cause death or grievous hurt,Assault or criminal force in attempting wrongfully to confine a person,Not in database,Punishment f...   \n",
       "1                                                                                                                                                                                                                                                                          Forgery for the purpose of cheating   \n",
       "2                                                                                             Theft by clerk or servant of property in possession of master,Theft in dwelling-house, etc.,Punishment for theft,Cheating and dishonestly inducing a delivery of property,Forgery of a valuable security or will   \n",
       "3                                                                                                                                                            Kidnapping,Punishment of criminal breach of trust,Not in database,Punishment for forgery,Cheating and dishonestly inducing a delivery of property   \n",
       "4                                                                                                                                                                                                                                                                                       Punishment for forgery   \n",
       "\n",
       "                                                                                                                                                                                                                                                                                             possible_statutes  \\\n",
       "0                                            397 Criminal Procedure Code,397 Penal Code,409 Criminal Procedure Code,409 Penal Code,357 Criminal Procedure Code,357 Penal Code,465 Criminal Procedure Code,465 Penal Code,471 Criminal Procedure Code,471 Penal Code,109 Criminal Procedure Code,109 Penal Code   \n",
       "1                                                                                                                                                                                                                                                                                               468 Penal Code   \n",
       "2                                                                                                                                                                                                                                   379 Penal Code,381 Penal Code,467 Penal Code,420 Penal Code,380 Penal Code   \n",
       "3  406 Criminal Procedure Code,406 Penal Code,406 Bankruptcy Act,14 Criminal Procedure Code,14 Penal Code,14 Bankruptcy Act,465 Criminal Procedure Code,465 Penal Code,465 Bankruptcy Act,420 Criminal Procedure Code,420 Penal Code,420 Bankruptcy Act,359 Criminal Procedure Code,359 Penal Code,359 Bank...   \n",
       "4                                                                                                                                                                                                                                                                                               465 Penal Code   \n",
       "\n",
       "                                                                                                                                                                                                                                                                                                          link  \n",
       "0  https://www.lawnet.sg/lawnet/web/lawnet/free-resources?p_p_id=freeresources_WAR_lawnet3baseportlet&p_p_lifecycle=1&p_p_state=normal&p_p_mode=view&p_p_col_id=column-1&p_p_col_pos=2&p_p_col_count=3&_freeresources_WAR_lawnet3baseportlet_action=openContentPage&_freeresources_WAR_lawnet3baseportlet_d...  \n",
       "1  https://www.lawnet.sg/lawnet/web/lawnet/free-resources?p_p_id=freeresources_WAR_lawnet3baseportlet&p_p_lifecycle=1&p_p_state=normal&p_p_mode=view&p_p_col_id=column-1&p_p_col_pos=2&p_p_col_count=3&_freeresources_WAR_lawnet3baseportlet_action=openContentPage&_freeresources_WAR_lawnet3baseportlet_d...  \n",
       "2  https://www.lawnet.sg/lawnet/web/lawnet/free-resources?p_p_id=freeresources_WAR_lawnet3baseportlet&p_p_lifecycle=1&p_p_state=normal&p_p_mode=view&p_p_col_id=column-1&p_p_col_pos=2&p_p_col_count=3&_freeresources_WAR_lawnet3baseportlet_action=openContentPage&_freeresources_WAR_lawnet3baseportlet_d...  \n",
       "3  https://www.lawnet.sg/lawnet/web/lawnet/free-resources?p_p_id=freeresources_WAR_lawnet3baseportlet&p_p_lifecycle=1&p_p_state=normal&p_p_mode=view&p_p_col_id=column-1&p_p_col_pos=2&p_p_col_count=3&_freeresources_WAR_lawnet3baseportlet_action=openContentPage&_freeresources_WAR_lawnet3baseportlet_d...  \n",
       "4  https://www.lawnet.sg/lawnet/web/lawnet/free-resources?p_p_id=freeresources_WAR_lawnet3baseportlet&p_p_lifecycle=1&p_p_state=normal&p_p_mode=view&p_p_col_id=column-1&p_p_col_pos=2&p_p_col_count=3&_freeresources_WAR_lawnet3baseportlet_action=openContentPage&_freeresources_WAR_lawnet3baseportlet_d...  "
      ]
     },
     "execution_count": 11,
     "metadata": {},
     "output_type": "execute_result"
    },
    {
     "data": {
      "image/png": "[encoded data removed]",
      "text/plain": [
       "<Figure size 720x576 with 1 Axes>"
      ]
     },
     "metadata": {
      "needs_background": "light"
     },
     "output_type": "display_data"
    }
   ],
   "source": [
    "input_string = 'FORGERY'\n",
    "search_statistics(input_string)"
   ]
  },
  {
   "cell_type": "markdown",
   "metadata": {},
   "source": [
    "## Observations  \n",
    "\n",
    "The functions seem to work well and the expected statistics, dataframe, and plot are returned. The results all contain the word `forgery` in the `possible_offences`, which is the correct column.  \n",
    "\n",
    "Hence the search engine seems to be a success."
   ]
  }
 ],
 "metadata": {
  "kernelspec": {
   "display_name": "Python 3",
   "language": "python",
   "name": "python3"
  },
  "language_info": {
   "codemirror_mode": {
    "name": "ipython",
    "version": 3
   },
   "file_extension": ".py",
   "mimetype": "text/x-python",
   "name": "python",
   "nbconvert_exporter": "python",
   "pygments_lexer": "ipython3",
   "version": "3.8.5"
  }
 },
 "nbformat": 4,
 "nbformat_minor": 4
}
