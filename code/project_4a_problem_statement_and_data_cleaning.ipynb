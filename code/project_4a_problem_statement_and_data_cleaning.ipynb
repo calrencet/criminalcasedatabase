{
 "cells": [
  {
   "cell_type": "markdown",
   "metadata": {},
   "source": [
    "# Capstone Project: Criminal Case Database"
   ]
  },
  {
   "cell_type": "markdown",
   "metadata": {},
   "source": [
    "## Problem Statement"
   ]
  },
  {
   "cell_type": "markdown",
   "metadata": {},
   "source": [
    "Given the current inefficient processes for beginning legal research, this project seeks to create a proof-of-concept on the creation of an Information Retrieval system in the form of a database of Criminal Law Cases which includes statistical summaries, and legal citations to improve on the speed and efficiency of legal research.  \n",
    "\n",
    "This project will use Natural Language Processing for Named Entity Recognition and to capture the relevant details of each judgment to create a database which can be filtered to provide not only the cases and other relevant cases, but also a statistical summary of the charges proceeded on, the past sentences given, and any other factors such as mitigation or aggravating factors in order to allow faster research which is also more data driven.  \n",
    "\n",
    "The project will measure success based on an improvement of research time in contrast to a baseline research time of ____."
   ]
  },
  {
   "cell_type": "markdown",
   "metadata": {},
   "source": [
    "### Overall Contents:\n",
    "- [Background](#1.-Background) **(In this notebook)**\n",
    "- [Data Cleaning](#2.-Data-Cleaning) **(In this notebook)**\n",
    "- Exploratory Data Analysis\n",
    "- Modeling 1 Logistic Regression\n",
    "- Modeling 2 k-Nearest Neighbours\n",
    "- Modeling 3 Random Forest\n",
    "- Evaluation\n",
    "- Conclusion and Recommendation"
   ]
  },
  {
   "cell_type": "markdown",
   "metadata": {},
   "source": [
    "## 1. Background"
   ]
  },
  {
   "cell_type": "markdown",
   "metadata": {},
   "source": [
    "Singapore uses the Common Law legal system, where there is an importance of judicial precedents. This means that judges decide cases based on past decisions of the courts. The decisions of higher courts such as the Supreme Court are binding on the lower courts.\n",
    "Further to past decisions, in Criminal Law, there is a Penal Code and Criminal Procedure Code which creates a statutory framework for investigation, trials, and sentencing in Criminal Law Cases.  \n",
    "\n",
    "The start of legal research tends to be a slow, manual, and inefficient process. Given the facts of the case at hand, the lawyer first analyzes and determines the relevant area of law to start the research.  \n",
    "According to a survey done by the ALL-SIS Task Force on Identifying Skills and Knowledge for Legal Practice in 2013, more than half the respondents frequently started their legal research by either looking through statutes or through a case law database, while slightly more than a third would frequently start their research through consulting a subject-specific guide.[1]  \n",
    "In the current state of the industry, this starting point can take a long time as the statutes and subject-specific guides tend to be wordy, and the case law databases contain many judgments which require further inspection to narrow down according to the case at hand.  \n"
   ]
  },
  {
   "cell_type": "markdown",
   "metadata": {},
   "source": [
    "### 1.1 Datasets\n",
    "\n",
    "The dataset contains the weather, location, testing and spraying in the City of Chicago.The data source below are obtained from [kaggle](https://www.kaggle.com/c/predict-west-nile-virus/data).\n",
    "\n",
    "The datasets obtained are as followed:-\n",
    "\n",
    "* train_df (2007, 2009, 2011, 2013)\n",
    "* spray_df (2011 to 2013)\n",
    "* weather_df (2007 to 2014)\n",
    "* test_df (2008, 2010, 2012, 2014)"
   ]
  },
  {
   "cell_type": "markdown",
   "metadata": {},
   "source": [
    "## 2. Data Cleaning"
   ]
  },
  {
   "cell_type": "markdown",
   "metadata": {},
   "source": [
    "### 2.1 Libraries Import"
   ]
  },
  {
   "cell_type": "code",
   "execution_count": 1,
   "metadata": {},
   "outputs": [],
   "source": [
    "# Imports:\n",
    "import pandas as pd\n",
    "import numpy as np\n",
    "import matplotlib.pyplot as plt\n",
    "\n",
    "# Maximum display of columns\n",
    "pd.options.display.max_colwidth = 400\n",
    "pd.options.display.max_rows = 400"
   ]
  },
  {
   "cell_type": "markdown",
   "metadata": {},
   "source": [
    "### 2.2 Data Import"
   ]
  },
  {
   "cell_type": "code",
   "execution_count": 2,
   "metadata": {},
   "outputs": [],
   "source": [
    "# Import data of train, weather, spray and test from csv\n",
    "train_df = pd.read_csv('../assets/train.csv')\n",
    "weather_df = pd.read_csv(\"../assets/weather.csv\")\n",
    "spray_df = pd.read_csv('../assets/spray.csv')\n",
    "test_df = pd.read_csv(\"../assets/test.csv\")\n",
    "mapdata = np.loadtxt(\"../assets/mapdata_copyright_openstreetmap_contributors.txt\")"
   ]
  },
  {
   "cell_type": "markdown",
   "metadata": {},
   "source": [
    "### 2.3 Data Cleaning"
   ]
  },
  {
   "cell_type": "markdown",
   "metadata": {},
   "source": [
    "### 2.3.1 Overview"
   ]
  },
  {
   "cell_type": "markdown",
   "metadata": {},
   "source": [
    "### 2.3.2 Change column names and values to lower case and drop columns"
   ]
  },
  {
   "cell_type": "markdown",
   "metadata": {},
   "source": [
    "#### 2.3.2.1 Columns names"
   ]
  },
  {
   "cell_type": "markdown",
   "metadata": {},
   "source": [
    "#### 2.3.2.2 Columns values\n",
    "\n",
    "For train_df and test_df, the address, species, street and addressnumberandstreet will be changed to lower case."
   ]
  },
  {
   "cell_type": "markdown",
   "metadata": {},
   "source": [
    "#### 2.3.2.3 Drop Columns"
   ]
  },
  {
   "cell_type": "markdown",
   "metadata": {},
   "source": [
    "### 2.3.3 Check for dtypes and missing values"
   ]
  },
  {
   "cell_type": "markdown",
   "metadata": {},
   "source": [
    "**Analysis: test_df has no missing values with date dtype will be changed to datetime dtype in exploratory data analysis section.**"
   ]
  },
  {
   "cell_type": "markdown",
   "metadata": {},
   "source": [
    "### 2.3.4 Missing values and dtypes of weather_df"
   ]
  },
  {
   "cell_type": "markdown",
   "metadata": {},
   "source": [
    "### 2.3.4.1 tavg\n",
    "\n",
    "Average temperature is the average of maximum (tmax) and minimum (tmin) temperature."
   ]
  },
  {
   "cell_type": "markdown",
   "metadata": {},
   "source": [
    "### 2.3.4.2 heat and cool\n",
    "\n",
    "The degree days: base is 65&deg;F. \n",
    "- If the temperature average is above 65&deg;F, subtract 65&deg;F from the mean and it is cool.\n",
    "- If the temperature average is below 65&deg;F, subtract mean from 65&deg;F and it is heat. [[7]](https://www.weather.gov/key/climate_heat_cool#:~:text=If%20the%20temperature%20mean%20is,result%20is%20Heating%20Degree%20Days.&text=Because%20the%20result%20is%20below,F%20%3D%2036%20Heating%20Degree%20Days.)"
   ]
  },
  {
   "cell_type": "markdown",
   "metadata": {},
   "source": [
    "### 2.3.4.3 water1"
   ]
  },
  {
   "cell_type": "markdown",
   "metadata": {},
   "source": [
    "**Analysis: water1 column have been removed and is not present in the weather_df.**"
   ]
  },
  {
   "cell_type": "markdown",
   "metadata": {},
   "source": [
    "### 2.3.4.4 depart"
   ]
  },
  {
   "cell_type": "markdown",
   "metadata": {},
   "source": [
    "### 2.3.4.7 To verify the presence of missing values and dtypes"
   ]
  },
  {
   "cell_type": "code",
   "execution_count": 38,
   "metadata": {},
   "outputs": [
    {
     "name": "stdout",
     "output_type": "stream",
     "text": [
      "<class 'pandas.core.frame.DataFrame'>\n",
      "Int64Index: 2928 entries, 0 to 2943\n",
      "Data columns (total 16 columns):\n",
      " #   Column       Non-Null Count  Dtype  \n",
      "---  ------       --------------  -----  \n",
      " 0   station      2928 non-null   int64  \n",
      " 1   date         2928 non-null   object \n",
      " 2   tmax         2928 non-null   int64  \n",
      " 3   tmin         2928 non-null   int64  \n",
      " 4   tavg         2928 non-null   int32  \n",
      " 5   dewpoint     2928 non-null   int64  \n",
      " 6   wetbulb      2928 non-null   int32  \n",
      " 7   heat         2928 non-null   int32  \n",
      " 8   cool         2928 non-null   int32  \n",
      " 9   codesum      2928 non-null   object \n",
      " 10  preciptotal  2928 non-null   float64\n",
      " 11  stnpressure  2928 non-null   float64\n",
      " 12  sealevel     2928 non-null   float64\n",
      " 13  resultspeed  2928 non-null   float64\n",
      " 14  resultdir    2928 non-null   int64  \n",
      " 15  avgspeed     2928 non-null   float64\n",
      "dtypes: float64(5), int32(4), int64(5), object(2)\n",
      "memory usage: 343.1+ KB\n"
     ]
    }
   ],
   "source": [
    "# To verify the presence of missing values and dtypes\n",
    "weather_df.info()"
   ]
  },
  {
   "cell_type": "markdown",
   "metadata": {},
   "source": [
    "**Analysis: There are no missing values and the dtype for each numerical column has been converted. The date dtype will be converted to datatime in exploratory data analysis section.**"
   ]
  },
  {
   "cell_type": "markdown",
   "metadata": {},
   "source": [
    "## 2.4. Summary"
   ]
  },
  {
   "cell_type": "markdown",
   "metadata": {},
   "source": [
    "**Summary**\n",
    "\n",
    "**For train_df, test_df, weather_df and spray_df:**\n",
    "* The column names have been changed to lower case.\n",
    "* The date dtype will be converted to datetime in exploratory data analysis section.\n",
    "\n",
    "**For train_df and test_df:**\n",
    "* There are no missing values. The selected columns have been dropped and the column values have been changed to lower case.\n",
    "\n",
    "**For weather_df:**\n",
    "* The missing values are indicated as 'M' and '-'.\n",
    "* The missing values in tavg, heat and cool columns have been calculated.\n",
    "* The water1, depart, depth, snowfall, sunset, sunrise columns have been removed as majority has missing values or these columns will not be used in our analysis.\n",
    "* The missing values in sealevel, stnpressure, wetbulb, avgspeed and preciptotal have been removed.\n",
    "* The trace value in preciptotal in has been converted to 0.00.\n",
    "* The numerical columns have been converted to int/float dtype.\n",
    "\n",
    "**For spray_df:**\n",
    "* The time column will not be used in our analysis and has been removed.\n",
    "* There are spray locations that are beyond the trap locations and have been removed."
   ]
  },
  {
   "cell_type": "markdown",
   "metadata": {},
   "source": [
    "## Exporting Data"
   ]
  },
  {
   "cell_type": "code",
   "execution_count": 49,
   "metadata": {},
   "outputs": [],
   "source": [
    "# # Placed the # to refrain from executing\n",
    "#train_df.to_csv(\"../data/train_df_clean.csv\", index = False)\n",
    "#test_df.to_csv(\"../data/test_df_clean.csv\", index = False)\n",
    "#weather_df.to_csv(\"../data/weather_df_clean.csv\", index = False)\n",
    "#spray_df.to_csv(\"../data/spray_df_clean.csv\", index = False)"
   ]
  },
  {
   "cell_type": "markdown",
   "metadata": {},
   "source": [
    "## References"
   ]
  },
  {
   "cell_type": "markdown",
   "metadata": {},
   "source": [
    "[1] \"A Study of Attorneys' Legal Research Practices and Opinions of New Associates' Research Skills,\" *ALL-SIS Task Force on Identifying Skills and Knowledge for Legal Practice*, June 2013. [Online]. Available: [https://www.aallnet.org/allsis/wp-content/uploads/sites/4/2018/01/final_report_07102013.pdf](https://www.aallnet.org/allsis/wp-content/uploads/sites/4/2018/01/final_report_07102013.pdf) [Accessed: May. 6, 2021]."
   ]
  },
  {
   "cell_type": "code",
   "execution_count": null,
   "metadata": {},
   "outputs": [],
   "source": []
  }
 ],
 "metadata": {
  "kernelspec": {
   "display_name": "Python 3",
   "language": "python",
   "name": "python3"
  },
  "language_info": {
   "codemirror_mode": {
    "name": "ipython",
    "version": 3
   },
   "file_extension": ".py",
   "mimetype": "text/x-python",
   "name": "python",
   "nbconvert_exporter": "python",
   "pygments_lexer": "ipython3",
   "version": "3.8.5"
  }
 },
 "nbformat": 4,
 "nbformat_minor": 4
}
