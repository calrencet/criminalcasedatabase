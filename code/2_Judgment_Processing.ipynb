{
 "cells": [
  {
   "cell_type": "markdown",
   "metadata": {},
   "source": [
    "# Capstone Project: Criminal Case Database"
   ]
  },
  {
   "cell_type": "markdown",
   "metadata": {},
   "source": [
    "### Overall Contents:\n",
    "- [Background](#1.-Background) **(In this notebook)**\n",
    "- [Webscraping](#2.-Webscraping) **(In this notebook)**\n",
    "- Exploratory Data Analysis\n",
    "- Modeling 1 Logistic Regression\n",
    "- Modeling 2 k-Nearest Neighbours\n",
    "- Modeling 3 Random Forest\n",
    "- Evaluation\n",
    "- Conclusion and Recommendation"
   ]
  },
  {
   "cell_type": "markdown",
   "metadata": {},
   "source": [
    "## 1. Background"
   ]
  },
  {
   "cell_type": "markdown",
   "metadata": {},
   "source": [
    "Singapore uses the Common Law legal system, where there is an importance of judicial precedents. This means that judges decide cases based on past decisions of the courts. The decisions of higher courts such as the Supreme Court are binding on the lower courts.\n",
    "Further to past decisions, in Criminal Law, there is a Penal Code and Criminal Procedure Code which creates a statutory framework for investigation, trials, and sentencing in Criminal Law Cases.  \n",
    "\n",
    "The start of legal research tends to be a slow, manual, and inefficient process. Given the facts of the case at hand, the lawyer first analyzes and determines the relevant area of law to start the research.  \n",
    "According to a survey done by the ALL-SIS Task Force on Identifying Skills and Knowledge for Legal Practice in 2013, more than half the respondents frequently started their legal research by either looking through statutes or through a case law database, while slightly more than a third would frequently start their research through consulting a subject-specific guide.[1]  \n",
    "In the current state of the industry, this starting point can take a long time as the statutes and subject-specific guides tend to be wordy, and the case law databases contain many judgments which require further inspection to narrow down according to the case at hand.  \n"
   ]
  },
  {
   "cell_type": "markdown",
   "metadata": {},
   "source": [
    "### 1.1 Datasets\n",
    "\n",
    "The datasets that I will use will be created by myself through the use of webscraping from legal websites such as LawNet, which contains the judgments, and the Singapore Statutes Online webpage, which contains digital copies of the statutes of Singapore.  \n",
    "\n",
    "The datasets create are as followed:-\n",
    "\n",
    "* subordinatecourt.csv\n",
    "* subordinatecourt_compiled.csv \n",
    "* statecourt.csv \n",
    "* statecourt_compiled.csv\n",
    "* statutes_crimes.csv\n",
    "* database.csv\n",
    "* database_temp.csv"
   ]
  },
  {
   "cell_type": "markdown",
   "metadata": {},
   "source": [
    "## 2. Judgment Processing"
   ]
  },
  {
   "cell_type": "markdown",
   "metadata": {},
   "source": [
    "### 2.1 Libraries Import"
   ]
  },
  {
   "cell_type": "code",
   "execution_count": 5,
   "metadata": {},
   "outputs": [],
   "source": [
    "# Import libaries\n",
    "import numpy as np\n",
    "import pandas as pd\n",
    "from court import Court, Database"
   ]
  },
  {
   "cell_type": "markdown",
   "metadata": {},
   "source": [
    "### 2.2 Data Import"
   ]
  },
  {
   "cell_type": "code",
   "execution_count": 6,
   "metadata": {},
   "outputs": [],
   "source": [
    "database = Database()"
   ]
  },
  {
   "cell_type": "code",
   "execution_count": 7,
   "metadata": {
    "scrolled": false
   },
   "outputs": [
    {
     "name": "stdout",
     "output_type": "stream",
     "text": [
      "Current progress: DataFrame created.\n",
      "Current progress: Completed judgment processing and export.\n"
     ]
    }
   ],
   "source": [
    "database.create_database('supreme')"
   ]
  },
  {
   "cell_type": "code",
   "execution_count": 8,
   "metadata": {},
   "outputs": [
    {
     "name": "stdout",
     "output_type": "stream",
     "text": [
      "Current progress: DataFrame created.\n",
      "Current progress: Completed judgment processing and export.\n"
     ]
    }
   ],
   "source": [
    "database.create_database('subordinate')"
   ]
  },
  {
   "cell_type": "code",
   "execution_count": 9,
   "metadata": {},
   "outputs": [
    {
     "data": {
      "text/html": [
       "<div>\n",
       "<style scoped>\n",
       "    .dataframe tbody tr th:only-of-type {\n",
       "        vertical-align: middle;\n",
       "    }\n",
       "\n",
       "    .dataframe tbody tr th {\n",
       "        vertical-align: top;\n",
       "    }\n",
       "\n",
       "    .dataframe thead th {\n",
       "        text-align: right;\n",
       "    }\n",
       "</style>\n",
       "<table border=\"1\" class=\"dataframe\">\n",
       "  <thead>\n",
       "    <tr style=\"text-align: right;\">\n",
       "      <th></th>\n",
       "      <th>aggravated_discussed</th>\n",
       "      <th>case_name</th>\n",
       "      <th>citations</th>\n",
       "      <th>court</th>\n",
       "      <th>decision date</th>\n",
       "      <th>link</th>\n",
       "      <th>mitigation_discussed</th>\n",
       "      <th>offences</th>\n",
       "      <th>statutes</th>\n",
       "      <th>tribunal/court</th>\n",
       "    </tr>\n",
       "  </thead>\n",
       "  <tbody>\n",
       "    <tr>\n",
       "      <th>0</th>\n",
       "      <td>0</td>\n",
       "      <td>Chander Kumar a/l Jayagaran v Public Prosecuto...</td>\n",
       "      <td>Perumal v Public Prosecutor and another,Syed S...</td>\n",
       "      <td>supreme</td>\n",
       "      <td>18 January 2021</td>\n",
       "      <td>https://www.lawnet.sg/lawnet/web/lawnet/free-r...</td>\n",
       "      <td>1</td>\n",
       "      <td>Unsure</td>\n",
       "      <td>394 Criminal Procedure Code,8 Criminal Procedu...</td>\n",
       "      <td>Court of Appeal</td>\n",
       "    </tr>\n",
       "    <tr>\n",
       "      <th>1</th>\n",
       "      <td>0</td>\n",
       "      <td>Public Prosecutor v Teo Ghim Heng [2021] SGHC 13</td>\n",
       "      <td>Public Prosecutor v BNO,and Osman bin Ali v Pu...</td>\n",
       "      <td>supreme</td>\n",
       "      <td>22 January 2021</td>\n",
       "      <td>https://www.lawnet.sg/lawnet/web/lawnet/free-r...</td>\n",
       "      <td>0</td>\n",
       "      <td>Unsure</td>\n",
       "      <td>304 Criminal Procedure Code,304 The Criminal P...</td>\n",
       "      <td>General Division of the High Court</td>\n",
       "    </tr>\n",
       "    <tr>\n",
       "      <th>2</th>\n",
       "      <td>1</td>\n",
       "      <td>GCM v Public Prosecutor and another appeal [20...</td>\n",
       "      <td>Public Prosecutor v GCM,AQW v Public Prosecuto...</td>\n",
       "      <td>supreme</td>\n",
       "      <td>25 January 2021</td>\n",
       "      <td>https://www.lawnet.sg/lawnet/web/lawnet/free-r...</td>\n",
       "      <td>1</td>\n",
       "      <td>Unsure</td>\n",
       "      <td>376 Criminal Law Reform Act</td>\n",
       "      <td>High Court</td>\n",
       "    </tr>\n",
       "    <tr>\n",
       "      <th>3</th>\n",
       "      <td>1</td>\n",
       "      <td>Public Prosecutor v Salzawiyah bte Latib and o...</td>\n",
       "      <td>Joseph v Public Prosecutor,Public Prosecutor v...</td>\n",
       "      <td>supreme</td>\n",
       "      <td>26 January 2021</td>\n",
       "      <td>https://www.lawnet.sg/lawnet/web/lawnet/free-r...</td>\n",
       "      <td>1</td>\n",
       "      <td></td>\n",
       "      <td></td>\n",
       "      <td>General Division of the High Court</td>\n",
       "    </tr>\n",
       "    <tr>\n",
       "      <th>4</th>\n",
       "      <td>0</td>\n",
       "      <td>Public Prosecutor v Salzawiyah bte Latib and o...</td>\n",
       "      <td>Chai Chien Wei Kelvin v Public Prosecutor,Publ...</td>\n",
       "      <td>supreme</td>\n",
       "      <td>26 January 2021</td>\n",
       "      <td>https://www.lawnet.sg/lawnet/web/lawnet/free-r...</td>\n",
       "      <td>0</td>\n",
       "      <td>Unsure</td>\n",
       "      <td>2 Misuse of Drugs Act,2 Penal Code,2 Criminal ...</td>\n",
       "      <td>General Division of the High Court</td>\n",
       "    </tr>\n",
       "  </tbody>\n",
       "</table>\n",
       "</div>"
      ],
      "text/plain": [
       "   aggravated_discussed                                          case_name  \\\n",
       "0                     0  Chander Kumar a/l Jayagaran v Public Prosecuto...   \n",
       "1                     0   Public Prosecutor v Teo Ghim Heng [2021] SGHC 13   \n",
       "2                     1  GCM v Public Prosecutor and another appeal [20...   \n",
       "3                     1  Public Prosecutor v Salzawiyah bte Latib and o...   \n",
       "4                     0  Public Prosecutor v Salzawiyah bte Latib and o...   \n",
       "\n",
       "                                           citations    court  \\\n",
       "0  Perumal v Public Prosecutor and another,Syed S...  supreme   \n",
       "1  Public Prosecutor v BNO,and Osman bin Ali v Pu...  supreme   \n",
       "2  Public Prosecutor v GCM,AQW v Public Prosecuto...  supreme   \n",
       "3  Joseph v Public Prosecutor,Public Prosecutor v...  supreme   \n",
       "4  Chai Chien Wei Kelvin v Public Prosecutor,Publ...  supreme   \n",
       "\n",
       "     decision date                                               link  \\\n",
       "0  18 January 2021  https://www.lawnet.sg/lawnet/web/lawnet/free-r...   \n",
       "1  22 January 2021  https://www.lawnet.sg/lawnet/web/lawnet/free-r...   \n",
       "2  25 January 2021  https://www.lawnet.sg/lawnet/web/lawnet/free-r...   \n",
       "3  26 January 2021  https://www.lawnet.sg/lawnet/web/lawnet/free-r...   \n",
       "4  26 January 2021  https://www.lawnet.sg/lawnet/web/lawnet/free-r...   \n",
       "\n",
       "   mitigation_discussed offences  \\\n",
       "0                     1   Unsure   \n",
       "1                     0   Unsure   \n",
       "2                     1   Unsure   \n",
       "3                     1            \n",
       "4                     0   Unsure   \n",
       "\n",
       "                                            statutes  \\\n",
       "0  394 Criminal Procedure Code,8 Criminal Procedu...   \n",
       "1  304 Criminal Procedure Code,304 The Criminal P...   \n",
       "2                        376 Criminal Law Reform Act   \n",
       "3                                                      \n",
       "4  2 Misuse of Drugs Act,2 Penal Code,2 Criminal ...   \n",
       "\n",
       "                       tribunal/court  \n",
       "0                     Court of Appeal  \n",
       "1  General Division of the High Court  \n",
       "2                          High Court  \n",
       "3  General Division of the High Court  \n",
       "4  General Division of the High Court  "
      ]
     },
     "execution_count": 9,
     "metadata": {},
     "output_type": "execute_result"
    }
   ],
   "source": [
    "database.database_df.head()"
   ]
  },
  {
   "cell_type": "markdown",
   "metadata": {},
   "source": [
    "There are missing values in certain columns such as citations, offences, and statutes.  \n",
    "\n",
    "This suggests that the use of rule-based processing is not perfect, and leads to instances where the details are not extracted from the judgments.  \n",
    "\n",
    "However, I am not dropping these columns as they can still be found via their name."
   ]
  },
  {
   "cell_type": "markdown",
   "metadata": {},
   "source": [
    "## 2.4. Summary"
   ]
  },
  {
   "cell_type": "markdown",
   "metadata": {},
   "source": [
    "**Summary**\n",
    "\n",
    "**For train_df, test_df, weather_df and spray_df:**\n",
    "* The column names have been changed to lower case.\n",
    "* The date dtype will be converted to datetime in exploratory data analysis section.\n",
    "\n",
    "**For train_df and test_df:**\n",
    "* There are no missing values. The selected columns have been dropped and the column values have been changed to lower case.\n",
    "\n",
    "**For weather_df:**\n",
    "* The missing values are indicated as 'M' and '-'.\n",
    "* The missing values in tavg, heat and cool columns have been calculated.\n",
    "* The water1, depart, depth, snowfall, sunset, sunrise columns have been removed as majority has missing values or these columns will not be used in our analysis.\n",
    "* The missing values in sealevel, stnpressure, wetbulb, avgspeed and preciptotal have been removed.\n",
    "* The trace value in preciptotal in has been converted to 0.00.\n",
    "* The numerical columns have been converted to int/float dtype.\n",
    "\n",
    "**For spray_df:**\n",
    "* The time column will not be used in our analysis and has been removed.\n",
    "* There are spray locations that are beyond the trap locations and have been removed."
   ]
  },
  {
   "cell_type": "markdown",
   "metadata": {},
   "source": [
    "## Exporting Data"
   ]
  },
  {
   "cell_type": "code",
   "execution_count": null,
   "metadata": {},
   "outputs": [],
   "source": [
    "# # Placed the # to refrain from executing\n",
    "#train_df.to_csv(\"../data/train_df_clean.csv\", index = False)\n",
    "#test_df.to_csv(\"../data/test_df_clean.csv\", index = False)\n",
    "#weather_df.to_csv(\"../data/weather_df_clean.csv\", index = False)\n",
    "#spray_df.to_csv(\"../data/spray_df_clean.csv\", index = False)"
   ]
  },
  {
   "cell_type": "markdown",
   "metadata": {},
   "source": [
    "## References"
   ]
  },
  {
   "cell_type": "markdown",
   "metadata": {},
   "source": [
    "[1] \"A Study of Attorneys' Legal Research Practices and Opinions of New Associates' Research Skills,\" *ALL-SIS Task Force on Identifying Skills and Knowledge for Legal Practice*, June 2013. [Online]. Available: [https://www.aallnet.org/allsis/wp-content/uploads/sites/4/2018/01/final_report_07102013.pdf](https://www.aallnet.org/allsis/wp-content/uploads/sites/4/2018/01/final_report_07102013.pdf) [Accessed: May. 6, 2021]."
   ]
  },
  {
   "cell_type": "code",
   "execution_count": null,
   "metadata": {},
   "outputs": [],
   "source": []
  }
 ],
 "metadata": {
  "kernelspec": {
   "display_name": "Python 3",
   "language": "python",
   "name": "python3"
  },
  "language_info": {
   "codemirror_mode": {
    "name": "ipython",
    "version": 3
   },
   "file_extension": ".py",
   "mimetype": "text/x-python",
   "name": "python",
   "nbconvert_exporter": "python",
   "pygments_lexer": "ipython3",
   "version": "3.6.13"
  }
 },
 "nbformat": 4,
 "nbformat_minor": 4
}
