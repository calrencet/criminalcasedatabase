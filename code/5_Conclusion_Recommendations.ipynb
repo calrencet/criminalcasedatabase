{
 "cells": [
  {
   "cell_type": "markdown",
   "metadata": {},
   "source": [
    "# Capstone Project: Criminal Case Database"
   ]
  },
  {
   "cell_type": "markdown",
   "metadata": {},
   "source": [
    "### Overall Contents:\n",
    "- Background\n",
    "- Webscraping Lawnet\n",
    "- Webscraping Singapore Statutes\n",
    "- Natural Language Processing\n",
    "- Search Function\n",
    "- Flask and Google App Engine\n",
    "- [Conclusion and Recommendation](#7.-Conclusion-and-Recommendation) **(In this notebook)**"
   ]
  },
  {
   "cell_type": "markdown",
   "metadata": {},
   "source": [
    "## 7. Conclusion and Recommendations  \n",
    "\n",
    "### 7.1 Conclusion"
   ]
  },
  {
   "cell_type": "markdown",
   "metadata": {},
   "source": [
    "The webscraping and archival functions worked well, and achieved a 100% collection and archival rate, with no judgments missed. Further, the using a Rule-Based Information Extraction method, the Natural Language Processing of the judgments was quite successful as most of the data which I set out to collect was collected without any issues.  \n",
    "\n",
    "A manual sample check of judgments showed that the NLP returned a true positive rate of near 100%.\n",
    "\n",
    "However, there were a few missing values for `citations`, `statutes`, and `offences` as they were not actually in the judgments as well.  \n",
    "\n",
    "The search function also worked well and returned the expected search results for the searches I tested.  \n",
    "\n",
    "Further, the app was successfully deployed through Flask and Google App Engine.  \n",
    "\n",
    "Thus overall, I would conclude that the project has been successful in showing a proof of concept of the use of NLP to provide statistical summaries through data analysis of legal judgments which can be presented in a search engine for legal cases."
   ]
  },
  {
   "cell_type": "markdown",
   "metadata": {},
   "source": [
    "### 7.2 Recommendations"
   ]
  },
  {
   "cell_type": "markdown",
   "metadata": {},
   "source": [
    "If it does not already exist, it may be possibly recommended for legal judgments to be processed through NLP to create tags for case database search engines, as it was quite efficient for my own simple search function.  \n",
    "\n",
    "Further, through the use of NLP and data analysis, I was able to not only find out which cases were discussed in the judgments, but to also identify and present the top cited cases for the different searches.  \n",
    "\n",
    "This can prove to be a very useful feature for legal research, as cases which are cited more often are likelier to have important judicial precedents and relevance."
   ]
  },
  {
   "cell_type": "markdown",
   "metadata": {},
   "source": [
    "### 7.3 Future Improvement"
   ]
  },
  {
   "cell_type": "markdown",
   "metadata": {},
   "source": [
    "Although the NLP worked well, it is not perfect as it uses a Rule-Based Information Extraction method. The html structure may change, and the code is not transferrable to other legal judgment sources and databases. It can definitely be improved through the use of training a Named Entity Recognition Model with Machine Learning which can identify the different categories of Named Entities within the judgment.  \n",
    "\n",
    "It should also be expanded to identify further statistical information such as the sentences given upon conviction, which would provide interesting insights.\n",
    "\n",
    "The use of a permutation method also caused extra information which was not actually found in the judgments to be captured for `possible_statutes` and `possible_titles`. It would be worthwhile to explore how NER might help to solve this issue.\n",
    "\n",
    "The database of statutes and offences can also be expanded to feature more sections and statutes. Further, it would also be worth exploring the use of NLP to create a comprehensive database of the various sections of each statute as this can be relevant to legal research.\n"
   ]
  },
  {
   "cell_type": "code",
   "execution_count": null,
   "metadata": {},
   "outputs": [],
   "source": []
  }
 ],
 "metadata": {
  "kernelspec": {
   "display_name": "Python 3",
   "language": "python",
   "name": "python3"
  },
  "language_info": {
   "codemirror_mode": {
    "name": "ipython",
    "version": 3
   },
   "file_extension": ".py",
   "mimetype": "text/x-python",
   "name": "python",
   "nbconvert_exporter": "python",
   "pygments_lexer": "ipython3",
   "version": "3.8.5"
  }
 },
 "nbformat": 4,
 "nbformat_minor": 4
}
